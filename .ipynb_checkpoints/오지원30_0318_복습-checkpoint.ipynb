{
 "cells": [
  {
   "cell_type": "markdown",
   "id": "7ea7d0b2",
   "metadata": {},
   "source": [
    "# for문\n",
    "- for 변수 in range(시작값, 끝값+1, 증가값):"
   ]
  },
  {
   "cell_type": "markdown",
   "id": "5b2b88c3",
   "metadata": {},
   "source": [
    "Q. 1부터20까지 중 짝수 출력"
   ]
  },
  {
   "cell_type": "code",
   "execution_count": 2,
   "id": "e5c44535",
   "metadata": {},
   "outputs": [
    {
     "name": "stdout",
     "output_type": "stream",
     "text": [
      "2\n",
      "4\n",
      "6\n",
      "8\n",
      "10\n",
      "12\n",
      "14\n",
      "16\n",
      "18\n",
      "20\n"
     ]
    }
   ],
   "source": [
    "for i in range(2, 21, 2):\n",
    "    print(i)"
   ]
  },
  {
   "cell_type": "code",
   "execution_count": 3,
   "id": "5da91327",
   "metadata": {},
   "outputs": [
    {
     "name": "stdout",
     "output_type": "stream",
     "text": [
      "2\n",
      "4\n",
      "6\n",
      "8\n",
      "10\n",
      "12\n",
      "14\n",
      "16\n",
      "18\n",
      "20\n"
     ]
    }
   ],
   "source": [
    "for i in range(1, 21):\n",
    "    if i % 2 == 0:\n",
    "        print(i)"
   ]
  },
  {
   "cell_type": "markdown",
   "id": "c69b2023",
   "metadata": {},
   "source": [
    "Q.1부터 20까지 중 홀수 출력"
   ]
  },
  {
   "cell_type": "code",
   "execution_count": 4,
   "id": "c0a1c2f9",
   "metadata": {
    "scrolled": true
   },
   "outputs": [
    {
     "name": "stdout",
     "output_type": "stream",
     "text": [
      "1\n",
      "3\n",
      "5\n",
      "7\n",
      "9\n",
      "11\n",
      "13\n",
      "15\n",
      "17\n",
      "19\n"
     ]
    }
   ],
   "source": [
    "for i in range(1, 21, 2):\n",
    "    print(i)"
   ]
  },
  {
   "cell_type": "markdown",
   "id": "aaec80e1",
   "metadata": {},
   "source": [
    "# 2차원 리스트\n",
    "- 2차원 행과 열로 이루어진 리스트\n",
    "- 행:index, 열:column"
   ]
  },
  {
   "cell_type": "code",
   "execution_count": 6,
   "id": "a86866d3",
   "metadata": {},
   "outputs": [],
   "source": [
    "list = [[1,2], [3,4], [5,6]]"
   ]
  },
  {
   "cell_type": "code",
   "execution_count": 7,
   "id": "1db264f7",
   "metadata": {},
   "outputs": [
    {
     "data": {
      "text/plain": [
       "[[1, 2], [3, 4], [5, 6]]"
      ]
     },
     "execution_count": 7,
     "metadata": {},
     "output_type": "execute_result"
    }
   ],
   "source": [
    "list"
   ]
  },
  {
   "cell_type": "markdown",
   "id": "29187bed",
   "metadata": {},
   "source": [
    "리스트의 값에 접근하려면 인덱스로 접근해야함"
   ]
  },
  {
   "cell_type": "code",
   "execution_count": 8,
   "id": "ce211a39",
   "metadata": {},
   "outputs": [
    {
     "name": "stdout",
     "output_type": "stream",
     "text": [
      "hi\n",
      "hi\n",
      "hi\n",
      "hi\n",
      "hi\n"
     ]
    }
   ],
   "source": [
    "for i in range(5):\n",
    "    print('hi')"
   ]
  },
  {
   "cell_type": "code",
   "execution_count": 9,
   "id": "a6a0f78e",
   "metadata": {},
   "outputs": [
    {
     "data": {
      "text/plain": [
       "3"
      ]
     },
     "execution_count": 9,
     "metadata": {},
     "output_type": "execute_result"
    }
   ],
   "source": [
    "list[1][0] #인덱스로 접근"
   ]
  },
  {
   "cell_type": "code",
   "execution_count": 10,
   "id": "e3e0ba32",
   "metadata": {},
   "outputs": [
    {
     "data": {
      "text/plain": [
       "5"
      ]
     },
     "execution_count": 10,
     "metadata": {},
     "output_type": "execute_result"
    }
   ],
   "source": [
    "list[2][0]"
   ]
  },
  {
   "cell_type": "code",
   "execution_count": 11,
   "id": "37dbeb08",
   "metadata": {},
   "outputs": [],
   "source": [
    "list_2 = ['a', 'b', 'c', 'd', 'e', 'f'] #1차원 접근"
   ]
  },
  {
   "cell_type": "markdown",
   "id": "0a5461c7",
   "metadata": {},
   "source": [
    "Q.list_2의 요소를 모두 불러오는 반복문"
   ]
  },
  {
   "cell_type": "code",
   "execution_count": 13,
   "id": "58dcc88a",
   "metadata": {
    "scrolled": true
   },
   "outputs": [
    {
     "name": "stdout",
     "output_type": "stream",
     "text": [
      "a\n",
      "b\n",
      "c\n",
      "d\n",
      "e\n",
      "f\n"
     ]
    }
   ],
   "source": [
    "for i in list_2:\n",
    "    print(i)"
   ]
  },
  {
   "cell_type": "code",
   "execution_count": 15,
   "id": "f3c3eeca",
   "metadata": {
    "scrolled": true
   },
   "outputs": [
    {
     "name": "stdout",
     "output_type": "stream",
     "text": [
      "a\n",
      "b\n",
      "c\n",
      "d\n",
      "e\n",
      "f\n"
     ]
    }
   ],
   "source": [
    "for i in range(len(list_2)):  \n",
    "    print(list_2[i])"
   ]
  },
  {
   "cell_type": "code",
   "execution_count": 16,
   "id": "1e14a57e",
   "metadata": {},
   "outputs": [
    {
     "name": "stdout",
     "output_type": "stream",
     "text": [
      "a\n",
      "b\n",
      "c\n",
      "d\n",
      "e\n",
      "f\n"
     ]
    }
   ],
   "source": [
    "for i in range(6):\n",
    "    print(list_2[i])"
   ]
  },
  {
   "cell_type": "markdown",
   "id": "4cf694e4",
   "metadata": {},
   "source": [
    "Q.list=[[1,2], [3,4], [5,6]] 의 값만 출력"
   ]
  },
  {
   "cell_type": "code",
   "execution_count": 17,
   "id": "74b36a75",
   "metadata": {},
   "outputs": [
    {
     "name": "stdout",
     "output_type": "stream",
     "text": [
      "[1, 2]\n",
      "[3, 4]\n",
      "[5, 6]\n"
     ]
    }
   ],
   "source": [
    "for i in list:\n",
    "    print(i)"
   ]
  },
  {
   "cell_type": "code",
   "execution_count": 18,
   "id": "a308ea68",
   "metadata": {
    "scrolled": true
   },
   "outputs": [
    {
     "name": "stdout",
     "output_type": "stream",
     "text": [
      "1\n",
      "2\n",
      "3\n",
      "4\n",
      "5\n",
      "6\n"
     ]
    }
   ],
   "source": [
    "for i in list:\n",
    "    for j in i:\n",
    "        print(j)"
   ]
  },
  {
   "cell_type": "code",
   "execution_count": 20,
   "id": "0f7a8bc6",
   "metadata": {
    "scrolled": true
   },
   "outputs": [
    {
     "name": "stdout",
     "output_type": "stream",
     "text": [
      "1\n",
      "2\n",
      "3\n",
      "4\n",
      "5\n",
      "6\n"
     ]
    }
   ],
   "source": [
    "for i in range(3):\n",
    "    for j in range(2):\n",
    "        print(list[i][j])"
   ]
  },
  {
   "cell_type": "markdown",
   "id": "a6da3360",
   "metadata": {},
   "source": [
    "## 빈 리스트를 만들어 요소 추가"
   ]
  },
  {
   "cell_type": "markdown",
   "id": "369f5d2c",
   "metadata": {},
   "source": [
    "Q.빈 리스트를 만들고 1부터 20 중 짝수만 넣기"
   ]
  },
  {
   "cell_type": "code",
   "execution_count": 22,
   "id": "881b7a5b",
   "metadata": {},
   "outputs": [
    {
     "name": "stdout",
     "output_type": "stream",
     "text": [
      "[2, 4, 6, 8, 10, 12, 14, 16, 18, 20]\n"
     ]
    }
   ],
   "source": [
    "list_3 = []  #빈 리스트\n",
    "for i in range(2,21,2):\n",
    "    list_3.append(i)\n",
    "print(list_3)\n",
    "    "
   ]
  },
  {
   "cell_type": "code",
   "execution_count": 25,
   "id": "7e012f48",
   "metadata": {},
   "outputs": [
    {
     "name": "stdout",
     "output_type": "stream",
     "text": [
      "[2, 4, 6, 8, 10, 12, 14, 16, 18, 20]\n"
     ]
    }
   ],
   "source": [
    "list_3 = []\n",
    "for i in range(1,21):\n",
    "    if i % 2 == 0:\n",
    "        list_3.append(i)           \n",
    "print(list_3)"
   ]
  },
  {
   "cell_type": "markdown",
   "id": "157328a6",
   "metadata": {},
   "source": [
    "Q.빈 리스트를 만들고 1부터 20 중 홀수만 넣기"
   ]
  },
  {
   "cell_type": "code",
   "execution_count": 26,
   "id": "31b7ce9b",
   "metadata": {},
   "outputs": [
    {
     "name": "stdout",
     "output_type": "stream",
     "text": [
      "[1, 3, 5, 7, 9, 11, 13, 15, 17, 19]\n"
     ]
    }
   ],
   "source": [
    "list_4 = []  #빈 리스트\n",
    "for i in range(1,21,2):\n",
    "    list_4.append(i)\n",
    "print(list_4)"
   ]
  },
  {
   "cell_type": "code",
   "execution_count": 27,
   "id": "578d9aa7",
   "metadata": {},
   "outputs": [
    {
     "name": "stdout",
     "output_type": "stream",
     "text": [
      "[1, 3, 5, 7, 9, 11, 13, 15, 17, 19]\n"
     ]
    }
   ],
   "source": [
    "list_4 = []\n",
    "for i in range(1,21):\n",
    "    if i % 2 != 0:\n",
    "        list_4.append(i)           \n",
    "print(list_4)"
   ]
  },
  {
   "cell_type": "markdown",
   "id": "ba6dad97",
   "metadata": {},
   "source": [
    "Q.[[0,0],[0,1],[1,0],[1,1]] 2차원 리스트 만들기"
   ]
  },
  {
   "cell_type": "code",
   "execution_count": 28,
   "id": "5fec3b3c",
   "metadata": {},
   "outputs": [
    {
     "name": "stdout",
     "output_type": "stream",
     "text": [
      "[[0, 0], [0, 1], [1, 0], [1, 1]]\n"
     ]
    }
   ],
   "source": [
    "a = []\n",
    "for i in range(2):\n",
    "    for j in range(2):\n",
    "        a.append([i,j])\n",
    "print(a)"
   ]
  },
  {
   "cell_type": "code",
   "execution_count": 46,
   "id": "c07b7935",
   "metadata": {},
   "outputs": [
    {
     "name": "stdout",
     "output_type": "stream",
     "text": [
      "[[[0, 0], [0, 1]], [[1, 0], [1, 1]]]\n"
     ]
    }
   ],
   "source": [
    " #수정필요\n",
    "a = []\n",
    "for i in range(2):\n",
    "    b = []\n",
    "    for j in range(2):\n",
    "        b.append([i,j])\n",
    "    a.append(b)\n",
    "print(a)  "
   ]
  },
  {
   "cell_type": "code",
   "execution_count": 50,
   "id": "e0908ed0",
   "metadata": {},
   "outputs": [
    {
     "name": "stdout",
     "output_type": "stream",
     "text": [
      "[[0, 0], [0, 1], [1, 0], [1, 1]]\n"
     ]
    }
   ],
   "source": [
    "a = []\n",
    "for i in range(2):\n",
    "    \n",
    "    for j in range(2):\n",
    "        b = []\n",
    "        b.append(i)\n",
    "        b.append(j)\n",
    "        a.append(b)\n",
    "print(a)"
   ]
  }
 ],
 "metadata": {
  "kernelspec": {
   "display_name": "Python 3 (ipykernel)",
   "language": "python",
   "name": "python3"
  },
  "language_info": {
   "codemirror_mode": {
    "name": "ipython",
    "version": 3
   },
   "file_extension": ".py",
   "mimetype": "text/x-python",
   "name": "python",
   "nbconvert_exporter": "python",
   "pygments_lexer": "ipython3",
   "version": "3.9.13"
  }
 },
 "nbformat": 4,
 "nbformat_minor": 5
}
