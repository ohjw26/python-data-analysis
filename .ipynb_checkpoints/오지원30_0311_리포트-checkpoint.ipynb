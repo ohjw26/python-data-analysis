{
 "cells": [
  {
   "cell_type": "markdown",
   "id": "f1f77ffc",
   "metadata": {},
   "source": [
    "# 필수과제\n",
    "- 오늘 시간까지 배운 내용을 타이타닉 데이터를 가지고 전처리 해주세요!\n",
    "- mpg 데이터는 복습으로 진행\n",
    "- 타이타닉데이터는 필수과제로 이용해 주세요!\n",
    "- 단순한 과제가 아니라 타이타닉 데이터의 컬럼에  대한 도메인을 찾으시고 (구글링하면 바로 나옴 타이타닉 데이터 컬럼 설명)\n",
    "- '생존'이 중요한 키워드라 y값\n",
    "- 생존을 중심으로 다양한 컬럼들이 어떤 특성을 가지고 있는지?\n",
    "- 본인이 질문을 최소 10개 이상 하고 그 질문에 답변을 할 수 있는 코드를 작성하고 주석처리까지 진행해 주세요.\n",
    "- 그냥 코드만 복붙한 거는 과제로 인정하지 않습니다.\n",
    "- 꼭 구글링은 최대한 지양하지만 필요하다면 진행해 주시고, 복습과제에서 추가로 하면서 실력을 키워보세요!\n",
    "- 배운 코드로 응용하기"
   ]
  },
  {
   "cell_type": "markdown",
   "id": "e8c2b851",
   "metadata": {},
   "source": [
    "## 타이타닉 데이터 컬럼 설명\n",
    "- **survived** 생존여부 (0:사망, 1:생존)\n",
    "- **pclass** 객실 등급 (1:1등급, 2:2등급, ...)\n",
    "- **sex** 성별 (male:남자, female:여자)\n",
    "- **age** 나이\n",
    "- **sibsp** 함께 탑승한 형제 및 배우자 수\n",
    "- **parch** 함께 탑승한 자녀 및 부모 수\n",
    "- **fare** 요금\n",
    "- **embarked** 탑승지 이름의 앞글자\n",
    "- **class** 객실 등급 (first:1등급, second:2등급, ...)\n",
    "- **who** (man:남자, woman:여자, child:아이)\n",
    "- **adult_male** 성인 남자 여부 (True:성인 남자, False:그외)\n",
    "- **deck** 선실 번호 첫 알파벳\n",
    "- **embark_town** 탑승지 이름\n",
    "- **alive** 생존 여부 (yes:생존, no:사망)\n",
    "- **alone** 혼자 탑승 여부 (True:혼자, False:가족과 함께)\n"
   ]
  },
  {
   "cell_type": "code",
   "execution_count": 9,
   "id": "1a531cab",
   "metadata": {},
   "outputs": [],
   "source": [
    "import seaborn as sns"
   ]
  },
  {
   "cell_type": "code",
   "execution_count": 10,
   "id": "bf585718",
   "metadata": {},
   "outputs": [],
   "source": [
    "import pandas as pd"
   ]
  },
  {
   "cell_type": "code",
   "execution_count": 11,
   "id": "0ab79e7a",
   "metadata": {},
   "outputs": [],
   "source": [
    "df = sns.load_dataset('titanic')"
   ]
  },
  {
   "cell_type": "code",
   "execution_count": 12,
   "id": "5efaf52f",
   "metadata": {
    "scrolled": true
   },
   "outputs": [
    {
     "data": {
      "text/html": [
       "<div>\n",
       "<style scoped>\n",
       "    .dataframe tbody tr th:only-of-type {\n",
       "        vertical-align: middle;\n",
       "    }\n",
       "\n",
       "    .dataframe tbody tr th {\n",
       "        vertical-align: top;\n",
       "    }\n",
       "\n",
       "    .dataframe thead th {\n",
       "        text-align: right;\n",
       "    }\n",
       "</style>\n",
       "<table border=\"1\" class=\"dataframe\">\n",
       "  <thead>\n",
       "    <tr style=\"text-align: right;\">\n",
       "      <th></th>\n",
       "      <th>survived</th>\n",
       "      <th>pclass</th>\n",
       "      <th>sex</th>\n",
       "      <th>age</th>\n",
       "      <th>sibsp</th>\n",
       "      <th>parch</th>\n",
       "      <th>fare</th>\n",
       "      <th>embarked</th>\n",
       "      <th>class</th>\n",
       "      <th>who</th>\n",
       "      <th>adult_male</th>\n",
       "      <th>deck</th>\n",
       "      <th>embark_town</th>\n",
       "      <th>alive</th>\n",
       "      <th>alone</th>\n",
       "    </tr>\n",
       "  </thead>\n",
       "  <tbody>\n",
       "    <tr>\n",
       "      <th>0</th>\n",
       "      <td>0</td>\n",
       "      <td>3</td>\n",
       "      <td>male</td>\n",
       "      <td>22.0</td>\n",
       "      <td>1</td>\n",
       "      <td>0</td>\n",
       "      <td>7.2500</td>\n",
       "      <td>S</td>\n",
       "      <td>Third</td>\n",
       "      <td>man</td>\n",
       "      <td>True</td>\n",
       "      <td>NaN</td>\n",
       "      <td>Southampton</td>\n",
       "      <td>no</td>\n",
       "      <td>False</td>\n",
       "    </tr>\n",
       "    <tr>\n",
       "      <th>1</th>\n",
       "      <td>1</td>\n",
       "      <td>1</td>\n",
       "      <td>female</td>\n",
       "      <td>38.0</td>\n",
       "      <td>1</td>\n",
       "      <td>0</td>\n",
       "      <td>71.2833</td>\n",
       "      <td>C</td>\n",
       "      <td>First</td>\n",
       "      <td>woman</td>\n",
       "      <td>False</td>\n",
       "      <td>C</td>\n",
       "      <td>Cherbourg</td>\n",
       "      <td>yes</td>\n",
       "      <td>False</td>\n",
       "    </tr>\n",
       "    <tr>\n",
       "      <th>2</th>\n",
       "      <td>1</td>\n",
       "      <td>3</td>\n",
       "      <td>female</td>\n",
       "      <td>26.0</td>\n",
       "      <td>0</td>\n",
       "      <td>0</td>\n",
       "      <td>7.9250</td>\n",
       "      <td>S</td>\n",
       "      <td>Third</td>\n",
       "      <td>woman</td>\n",
       "      <td>False</td>\n",
       "      <td>NaN</td>\n",
       "      <td>Southampton</td>\n",
       "      <td>yes</td>\n",
       "      <td>True</td>\n",
       "    </tr>\n",
       "    <tr>\n",
       "      <th>3</th>\n",
       "      <td>1</td>\n",
       "      <td>1</td>\n",
       "      <td>female</td>\n",
       "      <td>35.0</td>\n",
       "      <td>1</td>\n",
       "      <td>0</td>\n",
       "      <td>53.1000</td>\n",
       "      <td>S</td>\n",
       "      <td>First</td>\n",
       "      <td>woman</td>\n",
       "      <td>False</td>\n",
       "      <td>C</td>\n",
       "      <td>Southampton</td>\n",
       "      <td>yes</td>\n",
       "      <td>False</td>\n",
       "    </tr>\n",
       "    <tr>\n",
       "      <th>4</th>\n",
       "      <td>0</td>\n",
       "      <td>3</td>\n",
       "      <td>male</td>\n",
       "      <td>35.0</td>\n",
       "      <td>0</td>\n",
       "      <td>0</td>\n",
       "      <td>8.0500</td>\n",
       "      <td>S</td>\n",
       "      <td>Third</td>\n",
       "      <td>man</td>\n",
       "      <td>True</td>\n",
       "      <td>NaN</td>\n",
       "      <td>Southampton</td>\n",
       "      <td>no</td>\n",
       "      <td>True</td>\n",
       "    </tr>\n",
       "    <tr>\n",
       "      <th>...</th>\n",
       "      <td>...</td>\n",
       "      <td>...</td>\n",
       "      <td>...</td>\n",
       "      <td>...</td>\n",
       "      <td>...</td>\n",
       "      <td>...</td>\n",
       "      <td>...</td>\n",
       "      <td>...</td>\n",
       "      <td>...</td>\n",
       "      <td>...</td>\n",
       "      <td>...</td>\n",
       "      <td>...</td>\n",
       "      <td>...</td>\n",
       "      <td>...</td>\n",
       "      <td>...</td>\n",
       "    </tr>\n",
       "    <tr>\n",
       "      <th>886</th>\n",
       "      <td>0</td>\n",
       "      <td>2</td>\n",
       "      <td>male</td>\n",
       "      <td>27.0</td>\n",
       "      <td>0</td>\n",
       "      <td>0</td>\n",
       "      <td>13.0000</td>\n",
       "      <td>S</td>\n",
       "      <td>Second</td>\n",
       "      <td>man</td>\n",
       "      <td>True</td>\n",
       "      <td>NaN</td>\n",
       "      <td>Southampton</td>\n",
       "      <td>no</td>\n",
       "      <td>True</td>\n",
       "    </tr>\n",
       "    <tr>\n",
       "      <th>887</th>\n",
       "      <td>1</td>\n",
       "      <td>1</td>\n",
       "      <td>female</td>\n",
       "      <td>19.0</td>\n",
       "      <td>0</td>\n",
       "      <td>0</td>\n",
       "      <td>30.0000</td>\n",
       "      <td>S</td>\n",
       "      <td>First</td>\n",
       "      <td>woman</td>\n",
       "      <td>False</td>\n",
       "      <td>B</td>\n",
       "      <td>Southampton</td>\n",
       "      <td>yes</td>\n",
       "      <td>True</td>\n",
       "    </tr>\n",
       "    <tr>\n",
       "      <th>888</th>\n",
       "      <td>0</td>\n",
       "      <td>3</td>\n",
       "      <td>female</td>\n",
       "      <td>NaN</td>\n",
       "      <td>1</td>\n",
       "      <td>2</td>\n",
       "      <td>23.4500</td>\n",
       "      <td>S</td>\n",
       "      <td>Third</td>\n",
       "      <td>woman</td>\n",
       "      <td>False</td>\n",
       "      <td>NaN</td>\n",
       "      <td>Southampton</td>\n",
       "      <td>no</td>\n",
       "      <td>False</td>\n",
       "    </tr>\n",
       "    <tr>\n",
       "      <th>889</th>\n",
       "      <td>1</td>\n",
       "      <td>1</td>\n",
       "      <td>male</td>\n",
       "      <td>26.0</td>\n",
       "      <td>0</td>\n",
       "      <td>0</td>\n",
       "      <td>30.0000</td>\n",
       "      <td>C</td>\n",
       "      <td>First</td>\n",
       "      <td>man</td>\n",
       "      <td>True</td>\n",
       "      <td>C</td>\n",
       "      <td>Cherbourg</td>\n",
       "      <td>yes</td>\n",
       "      <td>True</td>\n",
       "    </tr>\n",
       "    <tr>\n",
       "      <th>890</th>\n",
       "      <td>0</td>\n",
       "      <td>3</td>\n",
       "      <td>male</td>\n",
       "      <td>32.0</td>\n",
       "      <td>0</td>\n",
       "      <td>0</td>\n",
       "      <td>7.7500</td>\n",
       "      <td>Q</td>\n",
       "      <td>Third</td>\n",
       "      <td>man</td>\n",
       "      <td>True</td>\n",
       "      <td>NaN</td>\n",
       "      <td>Queenstown</td>\n",
       "      <td>no</td>\n",
       "      <td>True</td>\n",
       "    </tr>\n",
       "  </tbody>\n",
       "</table>\n",
       "<p>891 rows × 15 columns</p>\n",
       "</div>"
      ],
      "text/plain": [
       "     survived  pclass     sex   age  sibsp  parch     fare embarked   class  \\\n",
       "0           0       3    male  22.0      1      0   7.2500        S   Third   \n",
       "1           1       1  female  38.0      1      0  71.2833        C   First   \n",
       "2           1       3  female  26.0      0      0   7.9250        S   Third   \n",
       "3           1       1  female  35.0      1      0  53.1000        S   First   \n",
       "4           0       3    male  35.0      0      0   8.0500        S   Third   \n",
       "..        ...     ...     ...   ...    ...    ...      ...      ...     ...   \n",
       "886         0       2    male  27.0      0      0  13.0000        S  Second   \n",
       "887         1       1  female  19.0      0      0  30.0000        S   First   \n",
       "888         0       3  female   NaN      1      2  23.4500        S   Third   \n",
       "889         1       1    male  26.0      0      0  30.0000        C   First   \n",
       "890         0       3    male  32.0      0      0   7.7500        Q   Third   \n",
       "\n",
       "       who  adult_male deck  embark_town alive  alone  \n",
       "0      man        True  NaN  Southampton    no  False  \n",
       "1    woman       False    C    Cherbourg   yes  False  \n",
       "2    woman       False  NaN  Southampton   yes   True  \n",
       "3    woman       False    C  Southampton   yes  False  \n",
       "4      man        True  NaN  Southampton    no   True  \n",
       "..     ...         ...  ...          ...   ...    ...  \n",
       "886    man        True  NaN  Southampton    no   True  \n",
       "887  woman       False    B  Southampton   yes   True  \n",
       "888  woman       False  NaN  Southampton    no  False  \n",
       "889    man        True    C    Cherbourg   yes   True  \n",
       "890    man        True  NaN   Queenstown    no   True  \n",
       "\n",
       "[891 rows x 15 columns]"
      ]
     },
     "execution_count": 12,
     "metadata": {},
     "output_type": "execute_result"
    }
   ],
   "source": [
    "df"
   ]
  },
  {
   "cell_type": "markdown",
   "id": "f628f919",
   "metadata": {},
   "source": [
    "**1-1)  남자와 여자 중 어느쪽의 생존자 수가 더 많은가?**"
   ]
  },
  {
   "cell_type": "markdown",
   "id": "80c9a25d",
   "metadata": {},
   "source": [
    "**1-2)  남자와 여자 중 생존자의 비율이 더 큰쪽은 어디인가?**"
   ]
  },
  {
   "cell_type": "code",
   "execution_count": 14,
   "id": "072e371f",
   "metadata": {},
   "outputs": [
    {
     "data": {
      "text/html": [
       "<div>\n",
       "<style scoped>\n",
       "    .dataframe tbody tr th:only-of-type {\n",
       "        vertical-align: middle;\n",
       "    }\n",
       "\n",
       "    .dataframe tbody tr th {\n",
       "        vertical-align: top;\n",
       "    }\n",
       "\n",
       "    .dataframe thead th {\n",
       "        text-align: right;\n",
       "    }\n",
       "</style>\n",
       "<table border=\"1\" class=\"dataframe\">\n",
       "  <thead>\n",
       "    <tr style=\"text-align: right;\">\n",
       "      <th></th>\n",
       "      <th>survived</th>\n",
       "    </tr>\n",
       "    <tr>\n",
       "      <th>sex</th>\n",
       "      <th></th>\n",
       "    </tr>\n",
       "  </thead>\n",
       "  <tbody>\n",
       "    <tr>\n",
       "      <th>female</th>\n",
       "      <td>233</td>\n",
       "    </tr>\n",
       "    <tr>\n",
       "      <th>male</th>\n",
       "      <td>109</td>\n",
       "    </tr>\n",
       "  </tbody>\n",
       "</table>\n",
       "</div>"
      ],
      "text/plain": [
       "        survived\n",
       "sex             \n",
       "female       233\n",
       "male         109"
      ]
     },
     "execution_count": 14,
     "metadata": {},
     "output_type": "execute_result"
    }
   ],
   "source": [
    "df.query(\"survived == 1\").groupby('sex').agg(survived = ('survived', 'count'))\n",
    "#female(여자)와 male(남자)의 생존자 수"
   ]
  },
  {
   "cell_type": "code",
   "execution_count": 30,
   "id": "000584f9",
   "metadata": {
    "scrolled": true
   },
   "outputs": [
    {
     "data": {
      "text/html": [
       "<div>\n",
       "<style scoped>\n",
       "    .dataframe tbody tr th:only-of-type {\n",
       "        vertical-align: middle;\n",
       "    }\n",
       "\n",
       "    .dataframe tbody tr th {\n",
       "        vertical-align: top;\n",
       "    }\n",
       "\n",
       "    .dataframe thead th {\n",
       "        text-align: right;\n",
       "    }\n",
       "</style>\n",
       "<table border=\"1\" class=\"dataframe\">\n",
       "  <thead>\n",
       "    <tr style=\"text-align: right;\">\n",
       "      <th></th>\n",
       "      <th>survival_rate</th>\n",
       "    </tr>\n",
       "    <tr>\n",
       "      <th>sex</th>\n",
       "      <th></th>\n",
       "    </tr>\n",
       "  </thead>\n",
       "  <tbody>\n",
       "    <tr>\n",
       "      <th>male</th>\n",
       "      <td>0.188908</td>\n",
       "    </tr>\n",
       "  </tbody>\n",
       "</table>\n",
       "</div>"
      ],
      "text/plain": [
       "      survival_rate\n",
       "sex                \n",
       "male       0.188908"
      ]
     },
     "execution_count": 30,
     "metadata": {},
     "output_type": "execute_result"
    }
   ],
   "source": [
    "df.query(\"survived == 1 and sex == 'male'\").groupby('sex').agg(survival_rate = ('survived', 'count'))/df.query(\"sex == 'male'\")['sex'].count()\n",
    "#남자의 생존 비율 (생존한 남자의 수/전체 남자의 수)"
   ]
  },
  {
   "cell_type": "code",
   "execution_count": 31,
   "id": "965703a8",
   "metadata": {
    "scrolled": false
   },
   "outputs": [
    {
     "data": {
      "text/html": [
       "<div>\n",
       "<style scoped>\n",
       "    .dataframe tbody tr th:only-of-type {\n",
       "        vertical-align: middle;\n",
       "    }\n",
       "\n",
       "    .dataframe tbody tr th {\n",
       "        vertical-align: top;\n",
       "    }\n",
       "\n",
       "    .dataframe thead th {\n",
       "        text-align: right;\n",
       "    }\n",
       "</style>\n",
       "<table border=\"1\" class=\"dataframe\">\n",
       "  <thead>\n",
       "    <tr style=\"text-align: right;\">\n",
       "      <th></th>\n",
       "      <th>survival_rate</th>\n",
       "    </tr>\n",
       "    <tr>\n",
       "      <th>sex</th>\n",
       "      <th></th>\n",
       "    </tr>\n",
       "  </thead>\n",
       "  <tbody>\n",
       "    <tr>\n",
       "      <th>female</th>\n",
       "      <td>0.742038</td>\n",
       "    </tr>\n",
       "  </tbody>\n",
       "</table>\n",
       "</div>"
      ],
      "text/plain": [
       "        survival_rate\n",
       "sex                  \n",
       "female       0.742038"
      ]
     },
     "execution_count": 31,
     "metadata": {},
     "output_type": "execute_result"
    }
   ],
   "source": [
    "df.query(\"survived == 1 and sex == 'female'\").groupby('sex').agg(survival_rate = ('survived', 'count'))/df.query(\"sex == 'female'\")['sex'].count()\n",
    "#여자의 생존 비율"
   ]
  },
  {
   "cell_type": "code",
   "execution_count": 35,
   "id": "563fa701",
   "metadata": {},
   "outputs": [
    {
     "data": {
      "text/plain": [
       "sex\n",
       "female    0.742038\n",
       "male      0.188908\n",
       "Name: survived, dtype: float64"
      ]
     },
     "execution_count": 35,
     "metadata": {},
     "output_type": "execute_result"
    }
   ],
   "source": [
    "df.groupby('sex')['survived'].mean() #쉬운 방법으로 표현한 것"
   ]
  },
  {
   "cell_type": "markdown",
   "id": "a9e4f15f",
   "metadata": {},
   "source": [
    "생존자의 수는 남자보다 여자가 더 많다.\n",
    "남자의 생존률은 0.188908이며 여자의 생존률은 0.742038이므로 여자의 생존 비율이 더 크다."
   ]
  },
  {
   "cell_type": "markdown",
   "id": "d64a7fe0",
   "metadata": {},
   "source": [
    "**2) 객실 등급에 따른 생존자 수와 비율은 어떠한가?**"
   ]
  },
  {
   "cell_type": "code",
   "execution_count": 32,
   "id": "889e0eb1",
   "metadata": {
    "scrolled": true
   },
   "outputs": [
    {
     "data": {
      "text/html": [
       "<div>\n",
       "<style scoped>\n",
       "    .dataframe tbody tr th:only-of-type {\n",
       "        vertical-align: middle;\n",
       "    }\n",
       "\n",
       "    .dataframe tbody tr th {\n",
       "        vertical-align: top;\n",
       "    }\n",
       "\n",
       "    .dataframe thead th {\n",
       "        text-align: right;\n",
       "    }\n",
       "</style>\n",
       "<table border=\"1\" class=\"dataframe\">\n",
       "  <thead>\n",
       "    <tr style=\"text-align: right;\">\n",
       "      <th></th>\n",
       "      <th>survived</th>\n",
       "    </tr>\n",
       "    <tr>\n",
       "      <th>pclass</th>\n",
       "      <th></th>\n",
       "    </tr>\n",
       "  </thead>\n",
       "  <tbody>\n",
       "    <tr>\n",
       "      <th>1</th>\n",
       "      <td>136</td>\n",
       "    </tr>\n",
       "    <tr>\n",
       "      <th>2</th>\n",
       "      <td>87</td>\n",
       "    </tr>\n",
       "    <tr>\n",
       "      <th>3</th>\n",
       "      <td>119</td>\n",
       "    </tr>\n",
       "  </tbody>\n",
       "</table>\n",
       "</div>"
      ],
      "text/plain": [
       "        survived\n",
       "pclass          \n",
       "1            136\n",
       "2             87\n",
       "3            119"
      ]
     },
     "execution_count": 32,
     "metadata": {},
     "output_type": "execute_result"
    }
   ],
   "source": [
    "df.query(\"survived == 1\").groupby('pclass').agg(survived = ('survived', 'count'))\n",
    "#pclass(객실 등급)에 따른 생존자의 수"
   ]
  },
  {
   "cell_type": "code",
   "execution_count": 34,
   "id": "be4793dd",
   "metadata": {
    "scrolled": true
   },
   "outputs": [
    {
     "data": {
      "text/plain": [
       "pclass\n",
       "1    0.629630\n",
       "2    0.472826\n",
       "3    0.242363\n",
       "Name: survived, dtype: float64"
      ]
     },
     "execution_count": 34,
     "metadata": {},
     "output_type": "execute_result"
    }
   ],
   "source": [
    "df.groupby('pclass')['survived'].mean()\n",
    "#객실 등급에 따른 생존자 비율"
   ]
  },
  {
   "cell_type": "markdown",
   "id": "a692e2c7",
   "metadata": {},
   "source": [
    "1등급 객실의 생존자 수가 136명으로 가장 많았으며 생존자 비율또한 0.629630으로 가장 컸다."
   ]
  },
  {
   "cell_type": "markdown",
   "id": "9d4171d0",
   "metadata": {},
   "source": [
    "**3) 나이가 생존자 수와 연관이 있을까?**"
   ]
  },
  {
   "cell_type": "code",
   "execution_count": 43,
   "id": "288786af",
   "metadata": {},
   "outputs": [
    {
     "data": {
      "text/plain": [
       "82"
      ]
     },
     "execution_count": 43,
     "metadata": {},
     "output_type": "execute_result"
    }
   ],
   "source": [
    "df.query(\"survived == 1 and age <= 20\")['survived'].count() \n",
    "#20세 이하 생존자의 수"
   ]
  },
  {
   "cell_type": "code",
   "execution_count": 44,
   "id": "1ba1aaa7",
   "metadata": {
    "scrolled": true
   },
   "outputs": [
    {
     "data": {
      "text/plain": [
       "153"
      ]
     },
     "execution_count": 44,
     "metadata": {},
     "output_type": "execute_result"
    }
   ],
   "source": [
    "df.query(\"survived == 1 and age > 20 and age <= 40\")['survived'].count()\n",
    "#20세 초과 40세 이하 생존자의 수"
   ]
  },
  {
   "cell_type": "code",
   "execution_count": 45,
   "id": "75904e1f",
   "metadata": {
    "scrolled": true
   },
   "outputs": [
    {
     "data": {
      "text/plain": [
       "55"
      ]
     },
     "execution_count": 45,
     "metadata": {},
     "output_type": "execute_result"
    }
   ],
   "source": [
    "df.query(\"survived == 1 and age > 40 \")['survived'].count()\n",
    "#40세 초과 생존자의 수"
   ]
  },
  {
   "cell_type": "markdown",
   "id": "125ccdbe",
   "metadata": {},
   "source": [
    "41세 이상인 사람의 생존자 수가 가장 적으며\n",
    "21세 이상 40세 이하인 생존자 수가 가장 많다.\n",
    "나이대를 구분한 범위가 넓지만 나이와 생존자의 수는 어느정도 연관이 있는 것으로 보인다."
   ]
  },
  {
   "cell_type": "markdown",
   "id": "a58262b1",
   "metadata": {},
   "source": [
    "**4) 남자아이와 여자아이의 생존자수와 비율은?**"
   ]
  },
  {
   "cell_type": "code",
   "execution_count": 47,
   "id": "6fea3a3d",
   "metadata": {
    "scrolled": true
   },
   "outputs": [
    {
     "data": {
      "text/plain": [
       "21"
      ]
     },
     "execution_count": 47,
     "metadata": {},
     "output_type": "execute_result"
    }
   ],
   "source": [
    "df.query(\"survived == 1 and sex == 'male' and who == 'child'\")['survived'].count()\n",
    "#남자아이의 생존자 수"
   ]
  },
  {
   "cell_type": "code",
   "execution_count": 48,
   "id": "eb18eb31",
   "metadata": {
    "scrolled": true
   },
   "outputs": [
    {
     "data": {
      "text/plain": [
       "28"
      ]
     },
     "execution_count": 48,
     "metadata": {},
     "output_type": "execute_result"
    }
   ],
   "source": [
    "df.query(\"survived == 1 and sex == 'female' and who == 'child'\")['survived'].count()\n",
    "#여자아이의 생존자 수"
   ]
  },
  {
   "cell_type": "code",
   "execution_count": 53,
   "id": "5eb15ccb",
   "metadata": {},
   "outputs": [
    {
     "data": {
      "text/plain": [
       "0.42857142857142855"
      ]
     },
     "execution_count": 53,
     "metadata": {},
     "output_type": "execute_result"
    }
   ],
   "source": [
    "df.query(\"survived == 1 and sex == 'male' and who == 'child'\")['survived'].count()/df.query(\"who == 'child' and survived == 1\")['who'].count()\n",
    "#남자아이의 생존율 (생존한 남자아이 수/생존한 전체 아이 수)"
   ]
  },
  {
   "cell_type": "code",
   "execution_count": 54,
   "id": "b51b9d96",
   "metadata": {
    "scrolled": true
   },
   "outputs": [
    {
     "data": {
      "text/plain": [
       "0.5714285714285714"
      ]
     },
     "execution_count": 54,
     "metadata": {},
     "output_type": "execute_result"
    }
   ],
   "source": [
    "df.query(\"survived == 1 and sex == 'female' and who == 'child'\")['survived'].count()/df.query(\"who == 'child' and survived == 1\")['who'].count()\n",
    "#여자아이의 생존율"
   ]
  },
  {
   "cell_type": "markdown",
   "id": "def72552",
   "metadata": {},
   "source": [
    "남자아이보다 여자아이의 생존자 수가 더 많았으며\n",
    "이들의 생존율을 비교해봤을 때 여자아이의 생존율이 더 높았다."
   ]
  },
  {
   "cell_type": "markdown",
   "id": "66d32d40",
   "metadata": {},
   "source": [
    "**5) 남자 중 성인인 사람과 아닌 사람의 생존율은?**"
   ]
  },
  {
   "cell_type": "code",
   "execution_count": 64,
   "id": "799fb9f6",
   "metadata": {
    "scrolled": true
   },
   "outputs": [
    {
     "data": {
      "text/plain": [
       "0.09876543209876543"
      ]
     },
     "execution_count": 64,
     "metadata": {},
     "output_type": "execute_result"
    }
   ],
   "source": [
    "df.query(\"survived == 1 and adult_male == True\")['survived'].count()/df['adult_male'].count()\n",
    "#성인 남성의 생존율 (생존한 성인 남성의 수/ 전체 성인 남성의 수)"
   ]
  },
  {
   "cell_type": "code",
   "execution_count": 63,
   "id": "789cdcd1",
   "metadata": {},
   "outputs": [
    {
     "data": {
      "text/plain": [
       "0.7175141242937854"
      ]
     },
     "execution_count": 63,
     "metadata": {},
     "output_type": "execute_result"
    }
   ],
   "source": [
    "df.query(\"survived == 1 and adult_male == False\")['survived'].count()/df.query(\"adult_male == False\")['adult_male'].count()\n",
    "#성인이 아닌 남성의 생존율"
   ]
  },
  {
   "cell_type": "markdown",
   "id": "e8f4dda7",
   "metadata": {},
   "source": [
    "남자 중 성인이 아닌 남성의 생존율이 더 높은 것을 확인할 수 있다."
   ]
  },
  {
   "cell_type": "markdown",
   "id": "4fa2d4f3",
   "metadata": {},
   "source": [
    "**6) 선실 번호의 첫 알파벳에 따른 생존자 수는?**"
   ]
  },
  {
   "cell_type": "code",
   "execution_count": 67,
   "id": "94934696",
   "metadata": {},
   "outputs": [
    {
     "data": {
      "text/html": [
       "<div>\n",
       "<style scoped>\n",
       "    .dataframe tbody tr th:only-of-type {\n",
       "        vertical-align: middle;\n",
       "    }\n",
       "\n",
       "    .dataframe tbody tr th {\n",
       "        vertical-align: top;\n",
       "    }\n",
       "\n",
       "    .dataframe thead th {\n",
       "        text-align: right;\n",
       "    }\n",
       "</style>\n",
       "<table border=\"1\" class=\"dataframe\">\n",
       "  <thead>\n",
       "    <tr style=\"text-align: right;\">\n",
       "      <th></th>\n",
       "      <th>survived</th>\n",
       "    </tr>\n",
       "    <tr>\n",
       "      <th>deck</th>\n",
       "      <th></th>\n",
       "    </tr>\n",
       "  </thead>\n",
       "  <tbody>\n",
       "    <tr>\n",
       "      <th>A</th>\n",
       "      <td>7</td>\n",
       "    </tr>\n",
       "    <tr>\n",
       "      <th>B</th>\n",
       "      <td>35</td>\n",
       "    </tr>\n",
       "    <tr>\n",
       "      <th>C</th>\n",
       "      <td>35</td>\n",
       "    </tr>\n",
       "    <tr>\n",
       "      <th>D</th>\n",
       "      <td>25</td>\n",
       "    </tr>\n",
       "    <tr>\n",
       "      <th>E</th>\n",
       "      <td>24</td>\n",
       "    </tr>\n",
       "    <tr>\n",
       "      <th>F</th>\n",
       "      <td>8</td>\n",
       "    </tr>\n",
       "    <tr>\n",
       "      <th>G</th>\n",
       "      <td>2</td>\n",
       "    </tr>\n",
       "  </tbody>\n",
       "</table>\n",
       "</div>"
      ],
      "text/plain": [
       "      survived\n",
       "deck          \n",
       "A            7\n",
       "B           35\n",
       "C           35\n",
       "D           25\n",
       "E           24\n",
       "F            8\n",
       "G            2"
      ]
     },
     "execution_count": 67,
     "metadata": {},
     "output_type": "execute_result"
    }
   ],
   "source": [
    "df.query(\"survived == 1\").groupby('deck').agg(survived = ('survived', 'count'))"
   ]
  },
  {
   "cell_type": "markdown",
   "id": "16832f2f",
   "metadata": {},
   "source": [
    "탑승지 이름 앞글자와 생존자 수에는 관계가 없다."
   ]
  },
  {
   "cell_type": "markdown",
   "id": "8fb97f05",
   "metadata": {},
   "source": [
    "**7-1) 혼자 탑승한 승객과 가족과 함께 탑승한 승객 중 어느쪽의 생존율이 더 높을까?**"
   ]
  },
  {
   "cell_type": "code",
   "execution_count": 68,
   "id": "8b43992b",
   "metadata": {
    "scrolled": true
   },
   "outputs": [
    {
     "data": {
      "text/plain": [
       "163"
      ]
     },
     "execution_count": 68,
     "metadata": {},
     "output_type": "execute_result"
    }
   ],
   "source": [
    "df.query(\"survived == 1 and alone == True\")['survived'].count()\n",
    "#혼자 탑승한 생존자 수"
   ]
  },
  {
   "cell_type": "code",
   "execution_count": 75,
   "id": "1e2499fd",
   "metadata": {
    "scrolled": true
   },
   "outputs": [
    {
     "data": {
      "text/plain": [
       "0.30353817504655495"
      ]
     },
     "execution_count": 75,
     "metadata": {},
     "output_type": "execute_result"
    }
   ],
   "source": [
    "df.query(\"survived == 1 and alone == True\")['survived'].count()/df.query(\"alone == True\")['alone'].count()\n",
    "#혼자 탑승한 생존자 비율 (혼자 탑승한 생존자 수/ 혼자 탑승한 승객 수)"
   ]
  },
  {
   "cell_type": "code",
   "execution_count": 85,
   "id": "efd35df8",
   "metadata": {},
   "outputs": [
    {
     "data": {
      "text/plain": [
       "179"
      ]
     },
     "execution_count": 85,
     "metadata": {},
     "output_type": "execute_result"
    }
   ],
   "source": [
    "df.query(\"survived == 1 and alone == False\")['survived'].count()\n",
    "#가족과 함께 탑승한 생존자 수"
   ]
  },
  {
   "cell_type": "code",
   "execution_count": 84,
   "id": "549d6e54",
   "metadata": {},
   "outputs": [
    {
     "data": {
      "text/plain": [
       "0.5056497175141242"
      ]
     },
     "execution_count": 84,
     "metadata": {},
     "output_type": "execute_result"
    }
   ],
   "source": [
    "df.query(\"survived == 1 and alone == False\")['survived'].count()/df.query(\"alone == False\")['alone'].count()\n",
    "#가족과 함께 탑승한 생존자 비율"
   ]
  },
  {
   "cell_type": "markdown",
   "id": "de1a2cf5",
   "metadata": {},
   "source": [
    "혼자 탑승한 승객보다 가족과 함께 탑승한 승객의 생존율이 더 높다."
   ]
  },
  {
   "cell_type": "markdown",
   "id": "4d898df7",
   "metadata": {},
   "source": [
    "**7-2) 혼자 탑승한 사람 중 50세 이상인 사람의 생존자 수와 그 비율은?**"
   ]
  },
  {
   "cell_type": "code",
   "execution_count": 77,
   "id": "b651ea92",
   "metadata": {
    "scrolled": true
   },
   "outputs": [
    {
     "data": {
      "text/plain": [
       "12"
      ]
     },
     "execution_count": 77,
     "metadata": {},
     "output_type": "execute_result"
    }
   ],
   "source": [
    "df.query(\"survived == 1 and alone == True and age >= 50\")['survived'].count()\n",
    "#혼자 탑승한 사람 중 50세 이상인 생존자 수"
   ]
  },
  {
   "cell_type": "code",
   "execution_count": 79,
   "id": "ab0e4a3c",
   "metadata": {},
   "outputs": [
    {
     "data": {
      "text/plain": [
       "0.4444444444444444"
      ]
     },
     "execution_count": 79,
     "metadata": {},
     "output_type": "execute_result"
    }
   ],
   "source": [
    "df.query(\"survived == 1 and alone == True and age >= 50\")['survived'].count()/df.query(\"survived == 1 and age >= 50\")['survived'].count()\n",
    "#혼자 탑승한 사람 중 50세 이상인 생존자의 비율"
   ]
  },
  {
   "cell_type": "markdown",
   "id": "b3b16769",
   "metadata": {},
   "source": [
    "**8) 탑승지 이름의 앞글자에 따른 생존자 수는?**"
   ]
  },
  {
   "cell_type": "code",
   "execution_count": 80,
   "id": "2a1d2494",
   "metadata": {
    "scrolled": true
   },
   "outputs": [
    {
     "data": {
      "text/html": [
       "<div>\n",
       "<style scoped>\n",
       "    .dataframe tbody tr th:only-of-type {\n",
       "        vertical-align: middle;\n",
       "    }\n",
       "\n",
       "    .dataframe tbody tr th {\n",
       "        vertical-align: top;\n",
       "    }\n",
       "\n",
       "    .dataframe thead th {\n",
       "        text-align: right;\n",
       "    }\n",
       "</style>\n",
       "<table border=\"1\" class=\"dataframe\">\n",
       "  <thead>\n",
       "    <tr style=\"text-align: right;\">\n",
       "      <th></th>\n",
       "      <th>survived</th>\n",
       "    </tr>\n",
       "    <tr>\n",
       "      <th>embarked</th>\n",
       "      <th></th>\n",
       "    </tr>\n",
       "  </thead>\n",
       "  <tbody>\n",
       "    <tr>\n",
       "      <th>C</th>\n",
       "      <td>93</td>\n",
       "    </tr>\n",
       "    <tr>\n",
       "      <th>Q</th>\n",
       "      <td>30</td>\n",
       "    </tr>\n",
       "    <tr>\n",
       "      <th>S</th>\n",
       "      <td>217</td>\n",
       "    </tr>\n",
       "  </tbody>\n",
       "</table>\n",
       "</div>"
      ],
      "text/plain": [
       "          survived\n",
       "embarked          \n",
       "C               93\n",
       "Q               30\n",
       "S              217"
      ]
     },
     "execution_count": 80,
     "metadata": {},
     "output_type": "execute_result"
    }
   ],
   "source": [
    "df.query(\"survived == 1\").groupby('embarked').agg(survived = ('survived', 'count'))"
   ]
  },
  {
   "cell_type": "markdown",
   "id": "3857b3ec",
   "metadata": {},
   "source": [
    "탑승지 이름의 앞글자가 s인 탑승객의 생존자 수가 가장 많지만\n",
    "탑승지 이름의 앞글자와 생존자 수의 관계는 없다."
   ]
  },
  {
   "cell_type": "markdown",
   "id": "880137b6",
   "metadata": {},
   "source": [
    "**9) 형제 및 배우자와 함께 탑승한 승객의 생존율과 자녀 및 부모와 함께 탑승한 승객의 생존율 중 어느쪽이 더 높을까?**"
   ]
  },
  {
   "cell_type": "code",
   "execution_count": 90,
   "id": "92946758",
   "metadata": {},
   "outputs": [
    {
     "data": {
      "text/plain": [
       "0.4664310954063604"
      ]
     },
     "execution_count": 90,
     "metadata": {},
     "output_type": "execute_result"
    }
   ],
   "source": [
    "df.query(\"survived == 1 and sibsp != 0\")['survived'].count()/df.query(\"sibsp != 0\")['survived'].count()\n",
    "#형제 및 배우자와 함께 탑승한 승객의 생존율"
   ]
  },
  {
   "cell_type": "code",
   "execution_count": 91,
   "id": "bcf14015",
   "metadata": {},
   "outputs": [
    {
     "data": {
      "text/plain": [
       "0.5117370892018779"
      ]
     },
     "execution_count": 91,
     "metadata": {},
     "output_type": "execute_result"
    }
   ],
   "source": [
    "df.query(\"survived == 1 and parch != 0\")['survived'].count()/df.query(\"parch != 0\")['survived'].count()\n",
    "#자녀 및 부모와 함께 탑승한 승객의 생존율"
   ]
  },
  {
   "cell_type": "markdown",
   "id": "e06887c6",
   "metadata": {},
   "source": [
    "자녀 및 부모와 함께 탑승한 승객의 생존율이 더 큰 것을 알 수 있다."
   ]
  },
  {
   "cell_type": "markdown",
   "id": "3db6b189",
   "metadata": {},
   "source": [
    "**10-1) 승객이 지불한 요금에 따른 생존율은?**"
   ]
  },
  {
   "cell_type": "code",
   "execution_count": 96,
   "id": "b218ac78",
   "metadata": {},
   "outputs": [
    {
     "data": {
      "text/plain": [
       "0.19940476190476192"
      ]
     },
     "execution_count": 96,
     "metadata": {},
     "output_type": "execute_result"
    }
   ],
   "source": [
    "df.query(\"survived == 1 and fare <= 10\")['survived'].count()/df.query(\"fare <= 10\")['survived'].count()"
   ]
  },
  {
   "cell_type": "code",
   "execution_count": 97,
   "id": "d9a93bbd",
   "metadata": {},
   "outputs": [
    {
     "data": {
      "text/plain": [
       "0.43302180685358255"
      ]
     },
     "execution_count": 97,
     "metadata": {},
     "output_type": "execute_result"
    }
   ],
   "source": [
    "df.query(\"survived == 1 and fare > 10 and fare <= 30\")['survived'].count()/df.query(\"fare > 10 and fare <= 30\")['survived'].count()"
   ]
  },
  {
   "cell_type": "code",
   "execution_count": 98,
   "id": "813c10ed",
   "metadata": {},
   "outputs": [
    {
     "data": {
      "text/plain": [
       "0.46511627906976744"
      ]
     },
     "execution_count": 98,
     "metadata": {},
     "output_type": "execute_result"
    }
   ],
   "source": [
    "df.query(\"survived == 1 and fare > 30 and fare <= 70\")['survived'].count()/df.query(\"fare > 30 and fare <= 70\")['survived'].count() "
   ]
  },
  {
   "cell_type": "code",
   "execution_count": 100,
   "id": "846976f3",
   "metadata": {
    "scrolled": true
   },
   "outputs": [
    {
     "data": {
      "text/plain": [
       "0.7238095238095238"
      ]
     },
     "execution_count": 100,
     "metadata": {},
     "output_type": "execute_result"
    }
   ],
   "source": [
    "df.query(\"survived == 1 and fare > 70\")['survived'].count()/df.query(\"fare > 70\")['survived'].count()  "
   ]
  },
  {
   "cell_type": "markdown",
   "id": "ee07ea54",
   "metadata": {},
   "source": [
    "지불한 요금이 많은 승객의 무리일수록 생존율이 커지는 것을 보아\n",
    "요금과 생존율은 대체적으로 비례한다고 볼 수 있다."
   ]
  },
  {
   "cell_type": "markdown",
   "id": "97b3481c",
   "metadata": {},
   "source": [
    "**10-2) 생존자가 지불한 요금의 평균은 전체 승객이 지불한 요금의 평균보다 큰가?**"
   ]
  },
  {
   "cell_type": "code",
   "execution_count": 101,
   "id": "de6f133f",
   "metadata": {
    "scrolled": true
   },
   "outputs": [
    {
     "data": {
      "text/plain": [
       "48.39540760233917"
      ]
     },
     "execution_count": 101,
     "metadata": {},
     "output_type": "execute_result"
    }
   ],
   "source": [
    "df.query(\"survived == 1\")['fare'].mean() \n",
    "#생존자가 지불한 요금의 평균"
   ]
  },
  {
   "cell_type": "code",
   "execution_count": 102,
   "id": "baa93aa6",
   "metadata": {},
   "outputs": [
    {
     "data": {
      "text/plain": [
       "32.2042079685746"
      ]
     },
     "execution_count": 102,
     "metadata": {},
     "output_type": "execute_result"
    }
   ],
   "source": [
    "df['fare'].mean() \n",
    "#전체 승객이 지불한 요금의 평균"
   ]
  },
  {
   "cell_type": "markdown",
   "id": "e409d2fe",
   "metadata": {},
   "source": [
    "전체 승객이 지불한 요금의 평균보다 생존자가 지불한 요금의 평균이 더 큰 것을 알 수 있다."
   ]
  }
 ],
 "metadata": {
  "kernelspec": {
   "display_name": "Python 3 (ipykernel)",
   "language": "python",
   "name": "python3"
  },
  "language_info": {
   "codemirror_mode": {
    "name": "ipython",
    "version": 3
   },
   "file_extension": ".py",
   "mimetype": "text/x-python",
   "name": "python",
   "nbconvert_exporter": "python",
   "pygments_lexer": "ipython3",
   "version": "3.9.13"
  }
 },
 "nbformat": 4,
 "nbformat_minor": 5
}
