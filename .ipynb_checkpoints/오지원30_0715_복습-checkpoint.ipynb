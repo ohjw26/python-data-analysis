{
 "cells": [
  {
   "cell_type": "markdown",
   "id": "6a02cf3f",
   "metadata": {},
   "source": [
    "# 통계적 가설 검정"
   ]
  },
  {
   "cell_type": "markdown",
   "id": "0635bfdf",
   "metadata": {},
   "source": [
    "* 모집단에 대해 가설 세운 후 검증하는 것"
   ]
  },
  {
   "cell_type": "code",
   "execution_count": 2,
   "id": "5f25620f",
   "metadata": {},
   "outputs": [],
   "source": [
    "import pandas as pd\n",
    "import numpy as np\n",
    "from scipy import stats\n",
    "\n",
    "np.random.seed(111)"
   ]
  },
  {
   "cell_type": "code",
   "execution_count": 4,
   "id": "9305d20e",
   "metadata": {},
   "outputs": [],
   "source": [
    "df= pd.read_csv('potato.csv')"
   ]
  },
  {
   "cell_type": "code",
   "execution_count": 5,
   "id": "53c04251",
   "metadata": {},
   "outputs": [
    {
     "data": {
      "text/html": [
       "<div>\n",
       "<style scoped>\n",
       "    .dataframe tbody tr th:only-of-type {\n",
       "        vertical-align: middle;\n",
       "    }\n",
       "\n",
       "    .dataframe tbody tr th {\n",
       "        vertical-align: top;\n",
       "    }\n",
       "\n",
       "    .dataframe thead th {\n",
       "        text-align: right;\n",
       "    }\n",
       "</style>\n",
       "<table border=\"1\" class=\"dataframe\">\n",
       "  <thead>\n",
       "    <tr style=\"text-align: right;\">\n",
       "      <th></th>\n",
       "      <th>무게</th>\n",
       "    </tr>\n",
       "  </thead>\n",
       "  <tbody>\n",
       "    <tr>\n",
       "      <th>0</th>\n",
       "      <td>122.02</td>\n",
       "    </tr>\n",
       "    <tr>\n",
       "      <th>1</th>\n",
       "      <td>131.73</td>\n",
       "    </tr>\n",
       "    <tr>\n",
       "      <th>2</th>\n",
       "      <td>130.60</td>\n",
       "    </tr>\n",
       "    <tr>\n",
       "      <th>3</th>\n",
       "      <td>131.82</td>\n",
       "    </tr>\n",
       "    <tr>\n",
       "      <th>4</th>\n",
       "      <td>132.05</td>\n",
       "    </tr>\n",
       "    <tr>\n",
       "      <th>5</th>\n",
       "      <td>126.12</td>\n",
       "    </tr>\n",
       "    <tr>\n",
       "      <th>6</th>\n",
       "      <td>124.43</td>\n",
       "    </tr>\n",
       "    <tr>\n",
       "      <th>7</th>\n",
       "      <td>132.89</td>\n",
       "    </tr>\n",
       "    <tr>\n",
       "      <th>8</th>\n",
       "      <td>122.79</td>\n",
       "    </tr>\n",
       "    <tr>\n",
       "      <th>9</th>\n",
       "      <td>129.95</td>\n",
       "    </tr>\n",
       "    <tr>\n",
       "      <th>10</th>\n",
       "      <td>126.14</td>\n",
       "    </tr>\n",
       "    <tr>\n",
       "      <th>11</th>\n",
       "      <td>134.45</td>\n",
       "    </tr>\n",
       "    <tr>\n",
       "      <th>12</th>\n",
       "      <td>127.64</td>\n",
       "    </tr>\n",
       "    <tr>\n",
       "      <th>13</th>\n",
       "      <td>125.68</td>\n",
       "    </tr>\n",
       "  </tbody>\n",
       "</table>\n",
       "</div>"
      ],
      "text/plain": [
       "        무게\n",
       "0   122.02\n",
       "1   131.73\n",
       "2   130.60\n",
       "3   131.82\n",
       "4   132.05\n",
       "5   126.12\n",
       "6   124.43\n",
       "7   132.89\n",
       "8   122.79\n",
       "9   129.95\n",
       "10  126.14\n",
       "11  134.45\n",
       "12  127.64\n",
       "13  125.68"
      ]
     },
     "execution_count": 5,
     "metadata": {},
     "output_type": "execute_result"
    }
   ],
   "source": [
    "df"
   ]
  },
  {
   "cell_type": "code",
   "execution_count": 6,
   "id": "f7395322",
   "metadata": {},
   "outputs": [
    {
     "data": {
      "text/plain": [
       "무게    128.450714\n",
       "dtype: float64"
      ]
     },
     "execution_count": 6,
     "metadata": {},
     "output_type": "execute_result"
    }
   ],
   "source": [
    "df.mean()"
   ]
  },
  {
   "cell_type": "code",
   "execution_count": 7,
   "id": "6699bb47",
   "metadata": {},
   "outputs": [],
   "source": [
    "sample = np.array(df['무게'])"
   ]
  },
  {
   "cell_type": "code",
   "execution_count": 9,
   "id": "a240353f",
   "metadata": {},
   "outputs": [
    {
     "data": {
      "text/plain": [
       "array([122.02, 131.73, 130.6 , 131.82, 132.05, 126.12, 124.43, 132.89,\n",
       "       122.79, 129.95, 126.14, 134.45, 127.64, 125.68])"
      ]
     },
     "execution_count": 9,
     "metadata": {},
     "output_type": "execute_result"
    }
   ],
   "source": [
    "sample"
   ]
  },
  {
   "cell_type": "code",
   "execution_count": 10,
   "id": "f9066cf9",
   "metadata": {},
   "outputs": [],
   "source": [
    "s_mean=np.mean(sample)"
   ]
  },
  {
   "cell_type": "markdown",
   "id": "ad8b0147",
   "metadata": {},
   "source": [
    "### 14개의 표본, 모평균 130, 모분산 9"
   ]
  },
  {
   "cell_type": "code",
   "execution_count": 11,
   "id": "72740d1a",
   "metadata": {},
   "outputs": [],
   "source": [
    "rv= stats.norm(130, np.sqrt(9/14))"
   ]
  },
  {
   "cell_type": "code",
   "execution_count": 12,
   "id": "628bdf1f",
   "metadata": {},
   "outputs": [
    {
     "data": {
      "text/plain": [
       "128.68118313069039"
      ]
     },
     "execution_count": 12,
     "metadata": {},
     "output_type": "execute_result"
    }
   ],
   "source": [
    "rv.isf(0.95)"
   ]
  },
  {
   "cell_type": "markdown",
   "id": "51d26c74",
   "metadata": {},
   "source": [
    "5%의 확률로 모평균 이하의 값이 나옴"
   ]
  },
  {
   "cell_type": "markdown",
   "id": "90db4c3f",
   "metadata": {},
   "source": [
    "* 귀무가설 표본평균이 130 이상\n",
    "* 대립가설 표본평균이 130보다 작다\n",
    "* 표본평균이 모평균보다 작다면 귀무가설 기각, 대립가설 채택"
   ]
  },
  {
   "cell_type": "markdown",
   "id": "a1b57d49",
   "metadata": {},
   "source": [
    "* 기각역 : 귀무가설이 기각되는 구간\n",
    "* 채택역 : 채택되는 구간"
   ]
  },
  {
   "cell_type": "markdown",
   "id": "7bcfcc12",
   "metadata": {},
   "source": [
    "* p값이 유의수준보다 작을 때 귀무가설 기각"
   ]
  },
  {
   "cell_type": "markdown",
   "id": "926c0065",
   "metadata": {},
   "source": [
    "### 검정통계량 z"
   ]
  },
  {
   "cell_type": "code",
   "execution_count": 15,
   "id": "e414e994",
   "metadata": {},
   "outputs": [],
   "source": [
    "z = (s_mean - 130)/ np.sqrt(9/14)"
   ]
  },
  {
   "cell_type": "code",
   "execution_count": 16,
   "id": "92a10935",
   "metadata": {
    "scrolled": true
   },
   "outputs": [
    {
     "data": {
      "text/plain": [
       "-1.932298779026813"
      ]
     },
     "execution_count": 16,
     "metadata": {},
     "output_type": "execute_result"
    }
   ],
   "source": [
    "z"
   ]
  },
  {
   "cell_type": "code",
   "execution_count": 18,
   "id": "d0d5dc08",
   "metadata": {},
   "outputs": [
    {
     "data": {
      "text/plain": [
       "-1.6448536269514722"
      ]
     },
     "execution_count": 18,
     "metadata": {},
     "output_type": "execute_result"
    }
   ],
   "source": [
    "#임계값\n",
    "rv= stats.norm()\n",
    "rv.isf(0.95)"
   ]
  },
  {
   "cell_type": "markdown",
   "id": "19b55103",
   "metadata": {},
   "source": [
    "검정통계량이 임계값보다 작으므로 귀무가설 기각"
   ]
  },
  {
   "cell_type": "markdown",
   "id": "4fb607c9",
   "metadata": {},
   "source": [
    "### 양측 검정"
   ]
  },
  {
   "cell_type": "code",
   "execution_count": 19,
   "id": "abcad934",
   "metadata": {},
   "outputs": [
    {
     "data": {
      "text/plain": [
       "(-1.959963984540054, 1.959963984540054)"
      ]
     },
     "execution_count": 19,
     "metadata": {},
     "output_type": "execute_result"
    }
   ],
   "source": [
    "rv= stats.norm()\n",
    "rv.interval(0.95)"
   ]
  },
  {
   "cell_type": "code",
   "execution_count": 21,
   "id": "2d5b44ce",
   "metadata": {},
   "outputs": [
    {
     "data": {
      "text/plain": [
       "0.05332263904625327"
      ]
     },
     "execution_count": 21,
     "metadata": {},
     "output_type": "execute_result"
    }
   ],
   "source": [
    "rv.cdf(z) *2"
   ]
  },
  {
   "cell_type": "markdown",
   "id": "b7d908df",
   "metadata": {},
   "source": [
    "유의수준 0.05보다 크므로 귀무가설 기각되지 않음"
   ]
  },
  {
   "cell_type": "markdown",
   "id": "b8653e75",
   "metadata": {},
   "source": [
    "## 가설검정에서의 오류"
   ]
  },
  {
   "cell_type": "markdown",
   "id": "44eb3b5e",
   "metadata": {},
   "source": [
    "* 1종오류 : 귀무가설 참, 귀무가설 기각\n",
    "* 2종오류 : 귀무가설 거짓(대립가설 참), 귀무가설 채택"
   ]
  }
 ],
 "metadata": {
  "kernelspec": {
   "display_name": "Python 3 (ipykernel)",
   "language": "python",
   "name": "python3"
  },
  "language_info": {
   "codemirror_mode": {
    "name": "ipython",
    "version": 3
   },
   "file_extension": ".py",
   "mimetype": "text/x-python",
   "name": "python",
   "nbconvert_exporter": "python",
   "pygments_lexer": "ipython3",
   "version": "3.9.13"
  }
 },
 "nbformat": 4,
 "nbformat_minor": 5
}
