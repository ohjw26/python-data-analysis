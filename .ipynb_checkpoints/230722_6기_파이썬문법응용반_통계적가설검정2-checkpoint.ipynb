{
 "cells": [
  {
   "cell_type": "code",
   "execution_count": 1,
   "id": "6acf219e",
   "metadata": {},
   "outputs": [],
   "source": [
    "import pandas as pd\n",
    "import numpy as np"
   ]
  },
  {
   "cell_type": "markdown",
   "id": "8fbe62e5",
   "metadata": {},
   "source": [
    "### 통계적 가설검정2\n",
    "- 가설검정을 진행하면서\n",
    "- 어떤 상황에 따라서 어떤 분석을 해야하며, 어떤 상황에 따라서 어떤 가정을 확인해야 하는지"
   ]
  },
  {
   "cell_type": "markdown",
   "id": "87e5ace3",
   "metadata": {},
   "source": [
    "### T-test 일표본 (One-Sample t-test)\n",
    "- 표본 하나고, 컬럼 하나라는 뜻\n",
    "- 단일 모집단에서 관심이 있는 연속형 변수의 평균값을 가지고 비교한다.\n",
    "\n",
    "- 가정: 모집단의 구성요소가 정규분포를 이룬다는 가정 \n",
    "- 종속변수는 연속형이어야 한다.\n",
    "- 기준값들이 필요하다.\n",
    "---\n",
    "\n",
    "- 일표본검정을 하기 전에 \n",
    "- 정규성 검정 \n",
    "- 정규성 검정 no - 윌콕슨 부호 검정 \n",
    "- 정규성 검정 yes - t.test"
   ]
  },
  {
   "cell_type": "code",
   "execution_count": 2,
   "id": "8d1422eb",
   "metadata": {},
   "outputs": [],
   "source": [
    "cat = pd.read_csv('cats.csv')"
   ]
  },
  {
   "cell_type": "code",
   "execution_count": 3,
   "id": "b0912361",
   "metadata": {},
   "outputs": [
    {
     "data": {
      "text/html": [
       "<div>\n",
       "<style scoped>\n",
       "    .dataframe tbody tr th:only-of-type {\n",
       "        vertical-align: middle;\n",
       "    }\n",
       "\n",
       "    .dataframe tbody tr th {\n",
       "        vertical-align: top;\n",
       "    }\n",
       "\n",
       "    .dataframe thead th {\n",
       "        text-align: right;\n",
       "    }\n",
       "</style>\n",
       "<table border=\"1\" class=\"dataframe\">\n",
       "  <thead>\n",
       "    <tr style=\"text-align: right;\">\n",
       "      <th></th>\n",
       "      <th>Sex</th>\n",
       "      <th>Bwt</th>\n",
       "      <th>Hwt</th>\n",
       "    </tr>\n",
       "  </thead>\n",
       "  <tbody>\n",
       "    <tr>\n",
       "      <th>0</th>\n",
       "      <td>F</td>\n",
       "      <td>2.0</td>\n",
       "      <td>7.0</td>\n",
       "    </tr>\n",
       "    <tr>\n",
       "      <th>1</th>\n",
       "      <td>F</td>\n",
       "      <td>2.0</td>\n",
       "      <td>7.4</td>\n",
       "    </tr>\n",
       "    <tr>\n",
       "      <th>2</th>\n",
       "      <td>F</td>\n",
       "      <td>2.0</td>\n",
       "      <td>9.5</td>\n",
       "    </tr>\n",
       "    <tr>\n",
       "      <th>3</th>\n",
       "      <td>F</td>\n",
       "      <td>2.1</td>\n",
       "      <td>7.2</td>\n",
       "    </tr>\n",
       "    <tr>\n",
       "      <th>4</th>\n",
       "      <td>F</td>\n",
       "      <td>2.1</td>\n",
       "      <td>7.3</td>\n",
       "    </tr>\n",
       "    <tr>\n",
       "      <th>...</th>\n",
       "      <td>...</td>\n",
       "      <td>...</td>\n",
       "      <td>...</td>\n",
       "    </tr>\n",
       "    <tr>\n",
       "      <th>139</th>\n",
       "      <td>M</td>\n",
       "      <td>3.7</td>\n",
       "      <td>11.0</td>\n",
       "    </tr>\n",
       "    <tr>\n",
       "      <th>140</th>\n",
       "      <td>M</td>\n",
       "      <td>3.8</td>\n",
       "      <td>14.8</td>\n",
       "    </tr>\n",
       "    <tr>\n",
       "      <th>141</th>\n",
       "      <td>M</td>\n",
       "      <td>3.8</td>\n",
       "      <td>16.8</td>\n",
       "    </tr>\n",
       "    <tr>\n",
       "      <th>142</th>\n",
       "      <td>M</td>\n",
       "      <td>3.9</td>\n",
       "      <td>14.4</td>\n",
       "    </tr>\n",
       "    <tr>\n",
       "      <th>143</th>\n",
       "      <td>M</td>\n",
       "      <td>3.9</td>\n",
       "      <td>20.5</td>\n",
       "    </tr>\n",
       "  </tbody>\n",
       "</table>\n",
       "<p>144 rows × 3 columns</p>\n",
       "</div>"
      ],
      "text/plain": [
       "    Sex  Bwt   Hwt\n",
       "0     F  2.0   7.0\n",
       "1     F  2.0   7.4\n",
       "2     F  2.0   9.5\n",
       "3     F  2.1   7.2\n",
       "4     F  2.1   7.3\n",
       "..   ..  ...   ...\n",
       "139   M  3.7  11.0\n",
       "140   M  3.8  14.8\n",
       "141   M  3.8  16.8\n",
       "142   M  3.9  14.4\n",
       "143   M  3.9  20.5\n",
       "\n",
       "[144 rows x 3 columns]"
      ]
     },
     "execution_count": 3,
     "metadata": {},
     "output_type": "execute_result"
    }
   ],
   "source": [
    "cat"
   ]
  },
  {
   "cell_type": "code",
   "execution_count": 4,
   "id": "a8b3f2f9",
   "metadata": {},
   "outputs": [
    {
     "data": {
      "text/html": [
       "<div>\n",
       "<style scoped>\n",
       "    .dataframe tbody tr th:only-of-type {\n",
       "        vertical-align: middle;\n",
       "    }\n",
       "\n",
       "    .dataframe tbody tr th {\n",
       "        vertical-align: top;\n",
       "    }\n",
       "\n",
       "    .dataframe thead th {\n",
       "        text-align: right;\n",
       "    }\n",
       "</style>\n",
       "<table border=\"1\" class=\"dataframe\">\n",
       "  <thead>\n",
       "    <tr style=\"text-align: right;\">\n",
       "      <th></th>\n",
       "      <th>Sex</th>\n",
       "      <th>Bwt</th>\n",
       "      <th>Hwt</th>\n",
       "    </tr>\n",
       "  </thead>\n",
       "  <tbody>\n",
       "    <tr>\n",
       "      <th>0</th>\n",
       "      <td>F</td>\n",
       "      <td>2.0</td>\n",
       "      <td>7.0</td>\n",
       "    </tr>\n",
       "    <tr>\n",
       "      <th>1</th>\n",
       "      <td>F</td>\n",
       "      <td>2.0</td>\n",
       "      <td>7.4</td>\n",
       "    </tr>\n",
       "    <tr>\n",
       "      <th>2</th>\n",
       "      <td>F</td>\n",
       "      <td>2.0</td>\n",
       "      <td>9.5</td>\n",
       "    </tr>\n",
       "    <tr>\n",
       "      <th>3</th>\n",
       "      <td>F</td>\n",
       "      <td>2.1</td>\n",
       "      <td>7.2</td>\n",
       "    </tr>\n",
       "    <tr>\n",
       "      <th>4</th>\n",
       "      <td>F</td>\n",
       "      <td>2.1</td>\n",
       "      <td>7.3</td>\n",
       "    </tr>\n",
       "    <tr>\n",
       "      <th>...</th>\n",
       "      <td>...</td>\n",
       "      <td>...</td>\n",
       "      <td>...</td>\n",
       "    </tr>\n",
       "    <tr>\n",
       "      <th>139</th>\n",
       "      <td>M</td>\n",
       "      <td>3.7</td>\n",
       "      <td>11.0</td>\n",
       "    </tr>\n",
       "    <tr>\n",
       "      <th>140</th>\n",
       "      <td>M</td>\n",
       "      <td>3.8</td>\n",
       "      <td>14.8</td>\n",
       "    </tr>\n",
       "    <tr>\n",
       "      <th>141</th>\n",
       "      <td>M</td>\n",
       "      <td>3.8</td>\n",
       "      <td>16.8</td>\n",
       "    </tr>\n",
       "    <tr>\n",
       "      <th>142</th>\n",
       "      <td>M</td>\n",
       "      <td>3.9</td>\n",
       "      <td>14.4</td>\n",
       "    </tr>\n",
       "    <tr>\n",
       "      <th>143</th>\n",
       "      <td>M</td>\n",
       "      <td>3.9</td>\n",
       "      <td>20.5</td>\n",
       "    </tr>\n",
       "  </tbody>\n",
       "</table>\n",
       "<p>144 rows × 3 columns</p>\n",
       "</div>"
      ],
      "text/plain": [
       "    Sex  Bwt   Hwt\n",
       "0     F  2.0   7.0\n",
       "1     F  2.0   7.4\n",
       "2     F  2.0   9.5\n",
       "3     F  2.1   7.2\n",
       "4     F  2.1   7.3\n",
       "..   ..  ...   ...\n",
       "139   M  3.7  11.0\n",
       "140   M  3.8  14.8\n",
       "141   M  3.8  16.8\n",
       "142   M  3.9  14.4\n",
       "143   M  3.9  20.5\n",
       "\n",
       "[144 rows x 3 columns]"
      ]
     },
     "execution_count": 4,
     "metadata": {},
     "output_type": "execute_result"
    }
   ],
   "source": [
    "cat"
   ]
  },
  {
   "cell_type": "code",
   "execution_count": 6,
   "id": "b543ae7e",
   "metadata": {},
   "outputs": [],
   "source": [
    "import scipy.stats as stats\n",
    "from scipy.stats import shapiro"
   ]
  },
  {
   "cell_type": "code",
   "execution_count": 8,
   "id": "915166e6",
   "metadata": {},
   "outputs": [
    {
     "data": {
      "text/plain": [
       "ShapiroResult(statistic=0.9518786668777466, pvalue=6.730228778906167e-05)"
      ]
     },
     "execution_count": 8,
     "metadata": {},
     "output_type": "execute_result"
    }
   ],
   "source": [
    "# 모평균  2.5\n",
    "#고양이의 몸무게가 2.5이다.\n",
    "#고양이의 몸무게가 2.5가 아니다\n",
    "\n",
    "#정규성 검정 shapiro 해당 고양이데이터가 정규성 만족하는지?\n",
    "mu = 2.5\n",
    "shapiro(cat['Bwt'])"
   ]
  },
  {
   "cell_type": "markdown",
   "id": "37d178ad",
   "metadata": {},
   "source": [
    "- 0.05보다는 작다\n",
    "- 귀무가설을 기각해야 한다.\n",
    "- 데이터가 정규분포를 따른다. \n",
    "- 정규분포를 따르지 않는다고 판단해야 한다.\n",
    "\n",
    "\n",
    "---\n",
    "- if 정규분포를 따르면 ttest\n",
    "- 정규분포를 따르지 않았으니 윌콕슨 해야 한다."
   ]
  },
  {
   "cell_type": "code",
   "execution_count": 9,
   "id": "e23658cf",
   "metadata": {},
   "outputs": [
    {
     "data": {
      "text/plain": [
       "WilcoxonResult(statistic=2432.0, pvalue=3.279404674375999e-06)"
      ]
     },
     "execution_count": 9,
     "metadata": {},
     "output_type": "execute_result"
    }
   ],
   "source": [
    "stats.wilcoxon(cat.Bwt - mu, alternative='two-sided')"
   ]
  },
  {
   "cell_type": "markdown",
   "id": "b37e94ec",
   "metadata": {},
   "source": [
    "- 유의수준0.05보다 작다.\n",
    "- 고양이 몸무게가 2.5이다라는 귀무가설을 기각\n",
    "- 고양이의 몸무게가 2.5이 아니다라는 대립가설 채택하고 유의수준 0.05하에서 말할 수 있다."
   ]
  },
  {
   "cell_type": "markdown",
   "id": "fa4ecae4",
   "metadata": {},
   "source": [
    "### 필수과제1\n",
    "- t-test로 진행도 해보기! (고양이데이터를 가지고!)"
   ]
  },
  {
   "cell_type": "markdown",
   "id": "9d63f92c",
   "metadata": {},
   "source": [
    "## 대응표본 T-검정 (Paired Sample - t-test)\n",
    "- 표본이 2개 컬럼이 두 개\n",
    "- 두 개의 컬럼에 모평균에 대한 차이를 비교한다는 뜻\n",
    "- 전 후에 대한 비교를 하게된다. 전 후에 대한 비교를 통해 평균의 차이를 비교한다.\n",
    "- ex) 신약개발해서 신약 개발 복용 전과 후를 비교해서 그 차이를 보고 이 신약이 정말 유의미한가를 분석하게 된다.\n",
    "- 모집단의 관측값이 정규성을 만족해야 한다.\n",
    "\n",
    "----\n",
    "- yes - t.test\n",
    "- no - 윌콕슨 부호 순위검정"
   ]
  },
  {
   "cell_type": "code",
   "execution_count": 13,
   "id": "2bb0dc44",
   "metadata": {},
   "outputs": [
    {
     "data": {
      "text/html": [
       "<div>\n",
       "<style scoped>\n",
       "    .dataframe tbody tr th:only-of-type {\n",
       "        vertical-align: middle;\n",
       "    }\n",
       "\n",
       "    .dataframe tbody tr th {\n",
       "        vertical-align: top;\n",
       "    }\n",
       "\n",
       "    .dataframe thead th {\n",
       "        text-align: right;\n",
       "    }\n",
       "</style>\n",
       "<table border=\"1\" class=\"dataframe\">\n",
       "  <thead>\n",
       "    <tr style=\"text-align: right;\">\n",
       "      <th></th>\n",
       "      <th>before</th>\n",
       "      <th>after</th>\n",
       "    </tr>\n",
       "  </thead>\n",
       "  <tbody>\n",
       "    <tr>\n",
       "      <th>0</th>\n",
       "      <td>5</td>\n",
       "      <td>8</td>\n",
       "    </tr>\n",
       "    <tr>\n",
       "      <th>1</th>\n",
       "      <td>7</td>\n",
       "      <td>3</td>\n",
       "    </tr>\n",
       "    <tr>\n",
       "      <th>2</th>\n",
       "      <td>3</td>\n",
       "      <td>2</td>\n",
       "    </tr>\n",
       "    <tr>\n",
       "      <th>3</th>\n",
       "      <td>8</td>\n",
       "      <td>8</td>\n",
       "    </tr>\n",
       "    <tr>\n",
       "      <th>4</th>\n",
       "      <td>2</td>\n",
       "      <td>7</td>\n",
       "    </tr>\n",
       "    <tr>\n",
       "      <th>5</th>\n",
       "      <td>1</td>\n",
       "      <td>2</td>\n",
       "    </tr>\n",
       "    <tr>\n",
       "      <th>6</th>\n",
       "      <td>8</td>\n",
       "      <td>6</td>\n",
       "    </tr>\n",
       "    <tr>\n",
       "      <th>7</th>\n",
       "      <td>1</td>\n",
       "      <td>2</td>\n",
       "    </tr>\n",
       "    <tr>\n",
       "      <th>8</th>\n",
       "      <td>3</td>\n",
       "      <td>5</td>\n",
       "    </tr>\n",
       "  </tbody>\n",
       "</table>\n",
       "</div>"
      ],
      "text/plain": [
       "   before  after\n",
       "0       5      8\n",
       "1       7      3\n",
       "2       3      2\n",
       "3       8      8\n",
       "4       2      7\n",
       "5       1      2\n",
       "6       8      6\n",
       "7       1      2\n",
       "8       3      5"
      ]
     },
     "execution_count": 13,
     "metadata": {},
     "output_type": "execute_result"
    }
   ],
   "source": [
    "# 두 모평균 사이의 차이는 없다  귀무가설\n",
    "# 두 모평균 사이의 차이는 있다. 대립가설\n",
    "\n",
    "import pandas as pd\n",
    "df = {'before':[5,7,3,8,2,1,8,1,3],\n",
    "     'after':[8,3,2,8,7,2,6,2,5]}\n",
    "data = pd.DataFrame(df)\n",
    "data\n",
    "#깨어있는 시간, 수면이 될 수 있고"
   ]
  },
  {
   "cell_type": "code",
   "execution_count": 14,
   "id": "081a7176",
   "metadata": {},
   "outputs": [
    {
     "data": {
      "text/html": [
       "<div>\n",
       "<style scoped>\n",
       "    .dataframe tbody tr th:only-of-type {\n",
       "        vertical-align: middle;\n",
       "    }\n",
       "\n",
       "    .dataframe tbody tr th {\n",
       "        vertical-align: top;\n",
       "    }\n",
       "\n",
       "    .dataframe thead th {\n",
       "        text-align: right;\n",
       "    }\n",
       "</style>\n",
       "<table border=\"1\" class=\"dataframe\">\n",
       "  <thead>\n",
       "    <tr style=\"text-align: right;\">\n",
       "      <th></th>\n",
       "      <th>before</th>\n",
       "      <th>after</th>\n",
       "    </tr>\n",
       "  </thead>\n",
       "  <tbody>\n",
       "    <tr>\n",
       "      <th>0</th>\n",
       "      <td>5</td>\n",
       "      <td>8</td>\n",
       "    </tr>\n",
       "    <tr>\n",
       "      <th>1</th>\n",
       "      <td>7</td>\n",
       "      <td>3</td>\n",
       "    </tr>\n",
       "    <tr>\n",
       "      <th>2</th>\n",
       "      <td>3</td>\n",
       "      <td>2</td>\n",
       "    </tr>\n",
       "    <tr>\n",
       "      <th>3</th>\n",
       "      <td>8</td>\n",
       "      <td>8</td>\n",
       "    </tr>\n",
       "    <tr>\n",
       "      <th>4</th>\n",
       "      <td>2</td>\n",
       "      <td>7</td>\n",
       "    </tr>\n",
       "    <tr>\n",
       "      <th>5</th>\n",
       "      <td>1</td>\n",
       "      <td>2</td>\n",
       "    </tr>\n",
       "    <tr>\n",
       "      <th>6</th>\n",
       "      <td>8</td>\n",
       "      <td>6</td>\n",
       "    </tr>\n",
       "    <tr>\n",
       "      <th>7</th>\n",
       "      <td>1</td>\n",
       "      <td>2</td>\n",
       "    </tr>\n",
       "    <tr>\n",
       "      <th>8</th>\n",
       "      <td>3</td>\n",
       "      <td>5</td>\n",
       "    </tr>\n",
       "  </tbody>\n",
       "</table>\n",
       "</div>"
      ],
      "text/plain": [
       "   before  after\n",
       "0       5      8\n",
       "1       7      3\n",
       "2       3      2\n",
       "3       8      8\n",
       "4       2      7\n",
       "5       1      2\n",
       "6       8      6\n",
       "7       1      2\n",
       "8       3      5"
      ]
     },
     "execution_count": 14,
     "metadata": {},
     "output_type": "execute_result"
    }
   ],
   "source": [
    "data"
   ]
  },
  {
   "cell_type": "markdown",
   "id": "efd28c29",
   "metadata": {},
   "source": [
    "- 귀무가설 : 복용 전과 복용 후가 차이가 없다.\n",
    "- 대립가설 : 복용 전과 복용 후가 차이가 있다."
   ]
  },
  {
   "cell_type": "code",
   "execution_count": 15,
   "id": "f2174d26",
   "metadata": {},
   "outputs": [
    {
     "data": {
      "text/plain": [
       "TtestResult(statistic=0.6178020632152155, pvalue=0.2769406324945396, df=8)"
      ]
     },
     "execution_count": 15,
     "metadata": {},
     "output_type": "execute_result"
    }
   ],
   "source": [
    "## t-test 비교\n",
    "stats.ttest_rel(data['after'],data['before'],alternative='greater')## alternative 파라미터 인자값들 다양함 "
   ]
  },
  {
   "cell_type": "markdown",
   "id": "09e93623",
   "metadata": {},
   "source": [
    "### 필수과제2\n",
    "- 30개 이상 표본을 만들어서 \n",
    "- 대응표본 T-검정 (Paired Sample - t-test) 진행\n",
    "- 가설에 대한 예시는 여러분들이 잡아주시면 되고\n",
    "- 정규성 검정과 함께\n",
    "- t.test와, 윌콕슨 모두 검정을 진행해 주시고\n",
    "- 결과 값에 대해서 pvalue를 통해 가설에 대한 채택 여부를 설명해 주세요!"
   ]
  },
  {
   "cell_type": "markdown",
   "id": "7304f032",
   "metadata": {},
   "source": [
    "## 독립표본 t-test(Independent Sample t-test)\n",
    "- 두 개의 독립된 모집단의 평균을 비교\n",
    "- 모집단, 모수, 표본 두 개씩 존재, 컬럼도 두 개 \n",
    "\n",
    "---\n",
    "- 정규성을 만족해야 하는지 봐야한다.\n",
    "- 등분산성을 봐야 한다 분산이 다른지, 같은지 봐야한다.\n",
    "\n",
    "---\n",
    "- if 정규성 \n",
    "- no 윌콕슨 부호 순위 검정\n",
    "- yes 두 가지를 또 생각해야 한다.\n",
    "- 등분산 검정 \n",
    "- yes 두 개의 분산이 같다고 파라미터를 조정\n",
    "- no 두 개의 분산이 다르다 파라미터를 조정하면 된다."
   ]
  },
  {
   "cell_type": "code",
   "execution_count": 28,
   "id": "9502b55c",
   "metadata": {},
   "outputs": [
    {
     "name": "stdout",
     "output_type": "stream",
     "text": [
      "47\n",
      "97\n"
     ]
    },
    {
     "data": {
      "text/plain": [
       "LeveneResult(statistic=19.43101190877999, pvalue=2.0435285255189404e-05)"
      ]
     },
     "execution_count": 28,
     "metadata": {},
     "output_type": "execute_result"
    }
   ],
   "source": [
    "cat# 수컷과 암컷\n",
    "\n",
    "#귀무가설 수컷과 암컷 고양이의 몸무게의 차이는 없다\n",
    "#대립가설 수컷과 암컷 고양이의 몸무게의 차이가 있다.\n",
    "\n",
    "cat_f = cat.loc[cat.Sex=='F','Bwt']\n",
    "cat_m = cat.loc[cat.Sex=='M','Bwt']\n",
    "\n",
    "# 등분산성 검정을 진행해 보자 (levene-test)\n",
    "print(len(cat_f))\n",
    "print(len(cat_m))\n",
    "# 실제 표본은 최대한 맞춰주셔야 한다.\n",
    "stats.levene(cat_f, cat_m)"
   ]
  },
  {
   "cell_type": "markdown",
   "id": "ca42ca28",
   "metadata": {},
   "source": [
    "- 등분산성 검정\n",
    "- 0.05 \n",
    "- 0.05보다 pvalue가 작다. 등분산성을 만족하지 않는다.\n",
    "- 귀무가설 등분산성 만족한다\n",
    "- 대립가설 등분산성 만족하지 않는다."
   ]
  },
  {
   "cell_type": "code",
   "execution_count": null,
   "id": "f6cec585",
   "metadata": {},
   "outputs": [],
   "source": [
    "# 등분산성이 만족되지 않는다는 기준으로 t-test를 진행해야 한다."
   ]
  },
  {
   "cell_type": "code",
   "execution_count": 29,
   "id": "d930d57e",
   "metadata": {},
   "outputs": [
    {
     "data": {
      "text/plain": [
       "Ttest_indResult(statistic=-8.70948849909559, pvalue=8.831034455859356e-15)"
      ]
     },
     "execution_count": 29,
     "metadata": {},
     "output_type": "execute_result"
    }
   ],
   "source": [
    "stats.ttest_ind(cat_f, cat_m, equal_var=False) #등분산성이 다르다"
   ]
  },
  {
   "cell_type": "markdown",
   "id": "2ea67de1",
   "metadata": {},
   "source": [
    "- 귀무가설을 기각한다.\n",
    "- 즉 수컷고양이와 암컷고양이의 몸무게는 차이가 있다."
   ]
  },
  {
   "cell_type": "code",
   "execution_count": 30,
   "id": "4b05bd62",
   "metadata": {},
   "outputs": [
    {
     "data": {
      "text/plain": [
       "Ttest_indResult(statistic=-7.330666826537409, pvalue=1.590445378625505e-11)"
      ]
     },
     "execution_count": 30,
     "metadata": {},
     "output_type": "execute_result"
    }
   ],
   "source": [
    "stats.ttest_ind(cat_f, cat_m, equal_var=True) #등분산성이 같다."
   ]
  },
  {
   "cell_type": "markdown",
   "id": "d7b90dd8",
   "metadata": {},
   "source": [
    "### 필수과제 3\n",
    "- 정규성을 만족하지 않는 경우\n",
    "- 정규성을 만족하는 경우 \n",
    "\n",
    "- 두 경우의 수를 모두 다 코드로 작성해 주세요! ( cat 데이터를 가지고 )\n",
    "\n",
    "- 귀무가설과 대립가설의 결과 차이에 대해서 간단한 시각화와 평균에 대한 비교를 함께 보여주세요!"
   ]
  },
  {
   "cell_type": "code",
   "execution_count": 31,
   "id": "4b8aeb7b",
   "metadata": {},
   "outputs": [
    {
     "data": {
      "text/plain": [
       "2.359574468085107"
      ]
     },
     "execution_count": 31,
     "metadata": {},
     "output_type": "execute_result"
    }
   ],
   "source": [
    "cat_f.mean()"
   ]
  },
  {
   "cell_type": "code",
   "execution_count": 32,
   "id": "7c59efc2",
   "metadata": {},
   "outputs": [
    {
     "data": {
      "text/plain": [
       "2.8999999999999995"
      ]
     },
     "execution_count": 32,
     "metadata": {},
     "output_type": "execute_result"
    }
   ],
   "source": [
    "cat_m.mean()"
   ]
  },
  {
   "cell_type": "markdown",
   "id": "6930e8e1",
   "metadata": {},
   "source": [
    "## 분산분석 \n",
    "- t-test 두 집단 간의 모평균과의 평균에 대한 차이를 비교한다.\n",
    "- 분산분석은 두 개 이상의 다수 집단에 대해서 집단 간의 평균을 비교하는 통계분석\n",
    "- 종속변수와 독립변수 \n",
    "- 종속변수는 연속형, 독립변수는 범주형이어야 한다.\n",
    "- 분산분석의 개수에 따라\n",
    "- 일원배치, 이원배치, 다원배치 분산분석으로 나눈다.\n",
    "\n",
    "\n",
    "- 단일변량 분산분석\n",
    "- 일원배치 - 독립변수 1개 종속변수 1개\n",
    "- 이원배치 - 독립변수 2개 종속변수 1개\n",
    "- 다원배치 - 독립변수 3개 종속변수 1개\n",
    "---\n",
    "- 다변량 분산분석\n",
    "- 독립변수는 1개이상- 종속변수가 2개이상"
   ]
  },
  {
   "cell_type": "markdown",
   "id": "0393b1e7",
   "metadata": {},
   "source": [
    "### 일원 배치 분산 분석\n",
    "- 일원배치분산분석\n",
    "- 정규성 검정 -> no 비모수검정\n",
    "- 정규성 검정 yes\n",
    "- 등분산성 검정\n",
    "- yes oneway\n",
    "- no 분석방법"
   ]
  },
  {
   "cell_type": "markdown",
   "id": "67b09fb1",
   "metadata": {},
   "source": [
    "### 필수과제 4\n",
    "- 분산분석에 대해서 Anova , Manova\n",
    "- 개념을 확실하게 정리해 주세요.\n",
    "- 위에 적은 다양한 경우의 수가 있는데, 해당 경우의 수에 대한 다양한 분산분석에 대한 개념 비교를 정리해 주세요!"
   ]
  },
  {
   "cell_type": "markdown",
   "id": "dcbdad09",
   "metadata": {},
   "source": [
    "### 필수과제 5\n",
    "- 통계 분석 과제\n",
    "- 데이터를 드릴 것이며, 해당 데이터를 가지고 지금까지 배웠던 통계 분석을 진행해 주세요.\n",
    "- 단순하게 t-test 하고 결과값을 출력하는 게 아니라.\n",
    "- 해당 변수에 대한 시각화 -> 정규성 -> t-test를 진행하는데\n",
    "- 컬럼에 대한 이해도를 바탕으로 분석 목적을 정확하게 잡고-> 그걸 기반으로 본인의 가설을 검정하는 코드와 주석처리를 진행해주세요!\n",
    "- 지금까지 배웠던 모든 분석 방법을 해야 합니다.\n",
    "- 분석 결과를 바탕으로 시각화를 통해서 실제 데이터의 값도 비교해 주세요!\n",
    "\n",
    "\n",
    "- 이런 것은 지양해 주세요!\n",
    "- 우수학회원의 기준점이 되기 때문에 최소한의 요구조건은 모두 다 만족해야 한다."
   ]
  },
  {
   "cell_type": "code",
   "execution_count": null,
   "id": "0ef22e75",
   "metadata": {},
   "outputs": [],
   "source": [
    "#지양포인트!\n",
    "stats.ttest_ind(cat_f, cat_m, equal_var=False)\n",
    "# 귀무가설 기각"
   ]
  }
 ],
 "metadata": {
  "kernelspec": {
   "display_name": "Python 3 (ipykernel)",
   "language": "python",
   "name": "python3"
  },
  "language_info": {
   "codemirror_mode": {
    "name": "ipython",
    "version": 3
   },
   "file_extension": ".py",
   "mimetype": "text/x-python",
   "name": "python",
   "nbconvert_exporter": "python",
   "pygments_lexer": "ipython3",
   "version": "3.8.16"
  }
 },
 "nbformat": 4,
 "nbformat_minor": 5
}
