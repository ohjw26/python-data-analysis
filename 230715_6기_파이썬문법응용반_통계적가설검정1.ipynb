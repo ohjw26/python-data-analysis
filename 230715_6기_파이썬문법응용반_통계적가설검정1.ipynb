{
 "cells": [
  {
   "cell_type": "code",
   "execution_count": 2,
   "id": "49ec25bc",
   "metadata": {},
   "outputs": [],
   "source": [
    "import pandas as pd\n",
    "import numpy as np\n",
    "from scipy import stats\n",
    "\n",
    "np.random.seed(111)"
   ]
  },
  {
   "cell_type": "markdown",
   "id": "8141669a",
   "metadata": {},
   "source": [
    "- 통계적 가설 검정을 진행하기 위해 배웠던 내용들 기억 꼭 해주시고!\n",
    "- 통계적 가설검정이란?\n",
    "- 모집단의 모수에 관한 가설을 세우고 표본의 정보를 이용해서-> 가설을 검증하는 것\n",
    "\n",
    "- potato 감자칩데이터\n",
    "- 14개 데이터\n",
    "\n",
    "- 감자칩 무게가 평균적으로 130g 알려져 있다. ( 편의점 구매시 소비자 알 권리 정보 )\n",
    "- 감자칩을 구매한 사람이 -> 무게를 측정했는데 122g 밖에 되지 않는다?\n",
    "- 실제로 편의점에서 말한 130g보다는 적게 나가는 거 아닌가?\n",
    "- 14개가 2주동안 샘플 사서 측정한 것\n",
    "- 14개의 표본을 평균을 계산한 결과가 128.45가 나왔다.\n",
    "- 야 130g이 아닌데? 내가 재보니깐 128.45? 잘못된 거 아니냐?\n",
    "\n",
    "- 점주가 우연이야 130g이 맞아"
   ]
  },
  {
   "cell_type": "code",
   "execution_count": 5,
   "id": "9ab2d54c",
   "metadata": {},
   "outputs": [],
   "source": [
    "df= pd.read_csv('potato.csv')"
   ]
  },
  {
   "cell_type": "code",
   "execution_count": 7,
   "id": "088adcb3",
   "metadata": {},
   "outputs": [
    {
     "data": {
      "text/plain": [
       "무게    128.450714\n",
       "dtype: float64"
      ]
     },
     "execution_count": 7,
     "metadata": {},
     "output_type": "execute_result"
    }
   ],
   "source": [
    "df.mean()"
   ]
  },
  {
   "cell_type": "code",
   "execution_count": 8,
   "id": "5a6c1fa7",
   "metadata": {},
   "outputs": [],
   "source": [
    "sample = np.array(df['무게'])"
   ]
  },
  {
   "cell_type": "code",
   "execution_count": 10,
   "id": "149a212a",
   "metadata": {},
   "outputs": [
    {
     "data": {
      "text/plain": [
       "array([122.02, 131.73, 130.6 , 131.82, 132.05, 126.12, 124.43, 132.89,\n",
       "       122.79, 129.95, 126.14, 134.45, 127.64, 125.68])"
      ]
     },
     "execution_count": 10,
     "metadata": {},
     "output_type": "execute_result"
    }
   ],
   "source": [
    "sample"
   ]
  },
  {
   "cell_type": "code",
   "execution_count": 15,
   "id": "de9cd821",
   "metadata": {},
   "outputs": [],
   "source": [
    "s_mean=np.mean(sample)"
   ]
  },
  {
   "cell_type": "markdown",
   "id": "e149ba5a",
   "metadata": {},
   "source": [
    "- 모집단의 모수에 대한 가설 세우기\n",
    "- 1. 모평균이 130g보다 적은지 여부 ( 전체 130g ? 작지 않냐? )\n",
    "- 전제조건이 있다. 정규분포를 따르고 있다고 ( 모집단이 정규분포를 따른다.), 모집단에 대한 정보를 다 알지는 못할 수있다.\n",
    "- 모평균과 모분산을 알고 있는지에 따라 접근 방법이 달라질 수 있다. 지금은 학습을 위해 모평균, 모분산을 알고 있다고 전제한다.\n",
    "\n",
    "- 모평균 130g, 모분산 9라고 알고 있음\n",
    "\n",
    "1. 모평균이 130g 14개의 표본을 가지고 진행했으니 표본평균 N(130, 9/14) "
   ]
  },
  {
   "cell_type": "code",
   "execution_count": 12,
   "id": "00f2a71f",
   "metadata": {},
   "outputs": [],
   "source": [
    "rv= stats.norm(130, np.sqrt(9/14))"
   ]
  },
  {
   "cell_type": "code",
   "execution_count": 14,
   "id": "f3302842",
   "metadata": {},
   "outputs": [
    {
     "data": {
      "text/plain": [
       "128.68118313069039"
      ]
     },
     "execution_count": 14,
     "metadata": {},
     "output_type": "execute_result"
    }
   ],
   "source": [
    "rv.isf(0.95) #통상적으로 사용하는 구간 #0.05\n",
    "#128.681이하의 무게가 되는 것은 5%확률로 발생한다는 것 "
   ]
  },
  {
   "cell_type": "markdown",
   "id": "39f3a33a",
   "metadata": {},
   "source": [
    "- ? 우리는 128.45, 128.681이 나옴\n",
    "- 어떻게 생각을 할 수 있는가?\n",
    "\n",
    "- 표본평균이 128.451 이 경우는 5% 확률로만 일어나므로 운이 나빴다. \n",
    "- 모평균이 130g 이라는 가설 아래에 5%의 확률로 발생하는 사건이 우연히 일어난 것이 아니라-> 원래 모평균이 130g 작은 것이 아닌가?\n",
    "- 모평균이 130g보다 작다라는 결론을 내리려는 가설검정 흐름"
   ]
  },
  {
   "cell_type": "markdown",
   "id": "2bb6494f",
   "metadata": {},
   "source": [
    "- 귀무가설과 대립가설을 사용한다. \n",
    "- 차이가 있다, 효과가 있다 내용은 -> 대립가설 본인이 주장하고 싶은 가설 \n",
    "- 차이가 없다, 효과가 없다 내용은 -> 귀무가설 원래 가설이 맞다라는 뜻\n",
    "\n",
    "- 표본으로부터 통계량을 계산하여 가설검정 수행\n",
    "- 귀무가설 기각, 귀무가설을 채택 \n",
    "- (단측검정, 양측검정 꼭 필수적으로 리마인드!)\n",
    "\n",
    "- 표본으로부터 계산된 통계량이 드문 값인지 여부로 결정을 하는데, 드문 값을 얻으면 우연이 아니라 어떤 의미있는 값이라 생각하여 귀무가설을 기각\n",
    "- 반대면 귀무가설을 채택 \n",
    "- 우연이 아니라 어떤 의미가 있다라는 것이 유의하다.\n",
    "\n",
    "\n",
    "- 대립가설 모평균이 130g 보다 작다.\n",
    "- 귀무가설은 모평균이 130g 이다.\n",
    "\n",
    "- 표본평균이 128.681보다 작다면 귀무가설은 기각되고 128.681보다 크다면 귀무가설은 채택된다.\n",
    "- 귀무가설을 기각되는 구간을 기각역\n",
    "- 채택되는 것을 채택역\n",
    "- 유의수준, 임계값(128.681), \n",
    "- p값 -> p값이 유의수준보다 작을 때에는 귀무가설 기각하고, 그렇지 않으면 귀무가설을 채택한다."
   ]
  },
  {
   "cell_type": "code",
   "execution_count": 16,
   "id": "6459421e",
   "metadata": {},
   "outputs": [],
   "source": [
    "#검정통계량 계산\n",
    "z = (s_mean - 130)/ np.sqrt(9/14)"
   ]
  },
  {
   "cell_type": "code",
   "execution_count": 17,
   "id": "625f44da",
   "metadata": {},
   "outputs": [
    {
     "data": {
      "text/plain": [
       "-1.932298779026813"
      ]
     },
     "execution_count": 17,
     "metadata": {},
     "output_type": "execute_result"
    }
   ],
   "source": [
    "z"
   ]
  },
  {
   "cell_type": "code",
   "execution_count": 19,
   "id": "c2c8d230",
   "metadata": {},
   "outputs": [
    {
     "data": {
      "text/plain": [
       "-1.6448536269514722"
      ]
     },
     "execution_count": 19,
     "metadata": {},
     "output_type": "execute_result"
    }
   ],
   "source": [
    "#임계값\n",
    "rv= stats.norm()\n",
    "rv.isf(0.95)"
   ]
  },
  {
   "cell_type": "code",
   "execution_count": 20,
   "id": "87d14bf7",
   "metadata": {},
   "outputs": [
    {
     "data": {
      "text/plain": [
       "0.026661319523126635"
      ]
     },
     "execution_count": 20,
     "metadata": {},
     "output_type": "execute_result"
    }
   ],
   "source": [
    "#검정통계량과 임계값을 비교하면, 검정통계량 값이 더 작다.\n",
    "# 이결과를 가지고 귀무가설은 기각되고 평균 130g보다 작다는 결론\n",
    "\n",
    "#p값을 가지고 비교해 보기\n",
    "rv.cdf(z)"
   ]
  },
  {
   "cell_type": "code",
   "execution_count": null,
   "id": "0cd85d62",
   "metadata": {},
   "outputs": [],
   "source": [
    "#0.027 유의수준 0.05 보다 작은 값이 나오니 -> 귀무가설 기각-> p값 기준으로 가설검정 동일한 결론 \n"
   ]
  },
  {
   "cell_type": "code",
   "execution_count": 21,
   "id": "ed5ffdad",
   "metadata": {},
   "outputs": [
    {
     "data": {
      "text/plain": [
       "(-1.959963984540054, 1.959963984540054)"
      ]
     },
     "execution_count": 21,
     "metadata": {},
     "output_type": "execute_result"
    }
   ],
   "source": [
    "#양측 검정 \n",
    "rv= stats.norm()\n",
    "rv.interval(0.95)"
   ]
  },
  {
   "cell_type": "code",
   "execution_count": 22,
   "id": "11268c48",
   "metadata": {},
   "outputs": [
    {
     "data": {
      "text/plain": [
       "0.05332263904625327"
      ]
     },
     "execution_count": 22,
     "metadata": {},
     "output_type": "execute_result"
    }
   ],
   "source": [
    "rv.cdf(z) *2"
   ]
  },
  {
   "cell_type": "code",
   "execution_count": null,
   "id": "6fb5d881",
   "metadata": {},
   "outputs": [],
   "source": [
    "#0.05보다 크게 나온다. 귀무가설이 기각되지 않는다."
   ]
  },
  {
   "cell_type": "markdown",
   "id": "031ed232",
   "metadata": {},
   "source": [
    "### 가설검정의 두 가지 오류\n",
    "- 표본을 이용하여 확률적으로 결론을 유도하는 것 -> 확률이기 때문에 모든 확률 100%라 할 수 없다-> 잘못 판단하는 경우가 발생한다.\n",
    "- 가설검정의 잘못(오류)\n",
    "- 1종 오류 : 귀무가설이 옳을 때, 귀무가설 기각하는 오류  \n",
    "- 2종 오류 : 대립가설이 옳을 때, 귀무가설을 채택하는 오류 \n",
    "\n",
    "- 1종 오류는 평균이 130g이 맞다, 평균이 130g보다 작다라고 결론을 내리는 것 \n",
    "- 오탐 -> 검출하지 말아야 할 것을 검출한다.\n",
    "- 위험률 a -> 위험율은 분석가가 제어할 수 있는 확률\n",
    "- 5% 1% 정한다. -> 분석가가 직접 정해서 가설검정하는 것이라서 \n",
    "- 제1종오류는 분석가가 제어할 수 있다.\n",
    "\n",
    "\n",
    "- 제 2종 오류\n",
    "- 실제로는 모평균이 130g보다 작다 -> 모평균은 130g보다 작다라고 하지 않은 것 \n",
    "- 실제를 놓친 부분이라 미탐\n",
    "\n",
    "\n",
    "### 필수과제 1\n",
    "- 1종 오류와 2종 오류에 대한 개념적인 내용 정리와\n",
    "- 두 오류에 대한 그래프 비교를 통해서 개념을 함께 정리해 주세요!\n"
   ]
  },
  {
   "cell_type": "markdown",
   "id": "24a13ab5",
   "metadata": {},
   "source": [
    "### 기본적인 가정\n",
    "#### 하나의 표본을 가지고 진행한 것\n",
    "- 감자칩 데이터 하나 가지고 진행을 한 것\n",
    "- 모분산을 알고 있는 경우\n",
    "- 모평균에 대한 유의수준 양측검정, 단측 진행하게 될 것 \n",
    "\n",
    "\n",
    "- 모분산에 대한 검정\n",
    "- 모평균에 대해 검정하는데 -> 모분산을 모르는 경우\n",
    "- t분포를 이용해서 진행한다.\n",
    "\n"
   ]
  },
  {
   "cell_type": "markdown",
   "id": "43233365",
   "metadata": {},
   "source": [
    "### 표본이 2개인 경우에 대한 가설검정\n",
    "\n",
    "- 감자칩이 A사 감자칩과 B사 감자칩\n",
    "- 신약이 나왔을 때 신약에대한 효과를 판단하기 위해서 진행 / 약을 복용전과 약을 복용 후\n",
    "\n",
    "- 2표본에 대한 문제\n",
    "- 다양한 관계가 있을 것\n",
    "- 2표본에 대해서 대푯값 사이에 차이가 있는지 살펴보고, 대푯값의 차이에 대한 검정을 다루기도 하고\n",
    "- 대표값의 차이에 대한 모집단에 정규분포를 가정할 수 있는가? \n",
    "- 데이터가 대응이 되는 여부로 확인할 수 있다.\n",
    "\n",
    "        -  정규분포 가정할 수 있다  /    정규분포를 가정할 수 없다.\n",
    "- 대응표본        대응비교 t검정    /           윌콕슨 부호순위검정     \n",
    "- 독립표본        독립비교 t검정    /           만위트니 u 검정\n",
    "\n",
    "- 정규분포에 대한 것을 꼭 체크해야 한다.\n",
    "- 비모수검정\n",
    "### 표본이 3개 이상인 경우\n",
    "- 분산분석\n"
   ]
  },
  {
   "cell_type": "markdown",
   "id": "32efb4fd",
   "metadata": {},
   "source": [
    "### 필수과제 2\n",
    "- 정규성 검정, 표본에 따라서 달라지는 분석기법에 대해서 리마인드 공부\n",
    "- 정리해 주세요, 분산분석까지도 개념 정리해 주시고 복습해서 다음시간까지 제출해 주세요!"
   ]
  },
  {
   "cell_type": "code",
   "execution_count": null,
   "id": "d9a300fc",
   "metadata": {},
   "outputs": [],
   "source": []
  },
  {
   "cell_type": "code",
   "execution_count": null,
   "id": "f6db0537",
   "metadata": {},
   "outputs": [],
   "source": []
  }
 ],
 "metadata": {
  "kernelspec": {
   "display_name": "Python 3 (ipykernel)",
   "language": "python",
   "name": "python3"
  },
  "language_info": {
   "codemirror_mode": {
    "name": "ipython",
    "version": 3
   },
   "file_extension": ".py",
   "mimetype": "text/x-python",
   "name": "python",
   "nbconvert_exporter": "python",
   "pygments_lexer": "ipython3",
   "version": "3.9.13"
  }
 },
 "nbformat": 4,
 "nbformat_minor": 5
}
