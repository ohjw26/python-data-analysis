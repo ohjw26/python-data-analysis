{
 "cells": [
  {
   "cell_type": "markdown",
   "id": "6bfa9e2b",
   "metadata": {},
   "source": [
    "1종 오류와 2종 오류에 대한 개념적인 내용 정리와\n",
    "두 오류에 대한 그래프 비교를 통해서 개념을 함께 정리"
   ]
  },
  {
   "cell_type": "markdown",
   "id": "317be023",
   "metadata": {},
   "source": [
    "## 1종 오류"
   ]
  },
  {
   "cell_type": "code",
   "execution_count": null,
   "id": "0a3385b9",
   "metadata": {},
   "outputs": [],
   "source": [
    "* 귀무가설이 참이지만 귀무가설을 기각하는 오류\n",
    "*"
   ]
  }
 ],
 "metadata": {
  "kernelspec": {
   "display_name": "Python 3 (ipykernel)",
   "language": "python",
   "name": "python3"
  },
  "language_info": {
   "codemirror_mode": {
    "name": "ipython",
    "version": 3
   },
   "file_extension": ".py",
   "mimetype": "text/x-python",
   "name": "python",
   "nbconvert_exporter": "python",
   "pygments_lexer": "ipython3",
   "version": "3.9.13"
  }
 },
 "nbformat": 4,
 "nbformat_minor": 5
}
